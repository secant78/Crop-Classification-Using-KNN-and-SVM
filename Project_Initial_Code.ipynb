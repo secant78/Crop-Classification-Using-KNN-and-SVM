{
  "nbformat": 4,
  "nbformat_minor": 0,
  "metadata": {
    "colab": {
      "name": "Project_Initial_Code.ipynb",
      "provenance": [],
      "collapsed_sections": [],
      "authorship_tag": "ABX9TyO0aOv3bMTphNepNUC9maOa",
      "include_colab_link": true
    },
    "kernelspec": {
      "name": "python3",
      "display_name": "Python 3"
    }
  },
  "cells": [
    {
      "cell_type": "markdown",
      "metadata": {
        "id": "view-in-github",
        "colab_type": "text"
      },
      "source": [
        "<a href=\"https://colab.research.google.com/github/secant78/Crop-Classification-Using-KNN-and-SVM/blob/main/Project_Initial_Code.ipynb\" target=\"_parent\"><img src=\"https://colab.research.google.com/assets/colab-badge.svg\" alt=\"Open In Colab\"/></a>"
      ]
    },
    {
      "cell_type": "code",
      "metadata": {
        "id": "3Fr4dzzbklyq",
        "colab": {
          "base_uri": "https://localhost:8080/"
        },
        "outputId": "87d59d1b-d2a2-4455-859f-65c3b419f025"
      },
      "source": [
        "import os\n",
        "import math\n",
        "import string\n",
        "#import data set to list'\n",
        "import glob\n",
        "import pandas as pd\n",
        "import numpy as np\n",
        "\n",
        "\n",
        "#\"/content/drive/My Drive/\"\n",
        "from google.colab import drive\n",
        "drive.mount('/content/drive')"
      ],
      "execution_count": 15,
      "outputs": [
        {
          "output_type": "stream",
          "text": [
            "Drive already mounted at /content/drive; to attempt to forcibly remount, call drive.mount(\"/content/drive\", force_remount=True).\n"
          ],
          "name": "stdout"
        }
      ]
    },
    {
      "cell_type": "code",
      "metadata": {
        "id": "Gzm_EJ-ykodB",
        "colab": {
          "base_uri": "https://localhost:8080/",
          "height": 243
        },
        "outputId": "d2b57e38-67ef-406d-8c7c-4a6f04e35081"
      },
      "source": [
        "fileTrain = r'/content/drive/My Drive/CISC 684/forest_mapping/WinnipegDataset.txt'\n",
        "#fileTest = r'/content/drive/My Drive/CISC 684/forest_mapping/testing.csv'\n",
        "\n",
        "dataTrain = pd.read_csv(fileTrain) #opens the file in read mode\n",
        "#dataTest = pd.read_csv(fileTest)\n",
        " #puts the file into an array\n",
        "        #words['a'] = words['a'].str.join(\" \") \n",
        "        #print(words)\n",
        "\n",
        "\n",
        "dataTrain.head()\n",
        "#dataTest.head()\n",
        "\n",
        "#pcaData = pd.read_csv(filePCA)"
      ],
      "execution_count": 16,
      "outputs": [
        {
          "output_type": "execute_result",
          "data": {
            "text/html": [
              "<div>\n",
              "<style scoped>\n",
              "    .dataframe tbody tr th:only-of-type {\n",
              "        vertical-align: middle;\n",
              "    }\n",
              "\n",
              "    .dataframe tbody tr th {\n",
              "        vertical-align: top;\n",
              "    }\n",
              "\n",
              "    .dataframe thead th {\n",
              "        text-align: right;\n",
              "    }\n",
              "</style>\n",
              "<table border=\"1\" class=\"dataframe\">\n",
              "  <thead>\n",
              "    <tr style=\"text-align: right;\">\n",
              "      <th></th>\n",
              "      <th>label</th>\n",
              "      <th>f1</th>\n",
              "      <th>f2</th>\n",
              "      <th>f3</th>\n",
              "      <th>f4</th>\n",
              "      <th>f5</th>\n",
              "      <th>f6</th>\n",
              "      <th>f7</th>\n",
              "      <th>f8</th>\n",
              "      <th>f9</th>\n",
              "      <th>f10</th>\n",
              "      <th>f11</th>\n",
              "      <th>f12</th>\n",
              "      <th>f13</th>\n",
              "      <th>f14</th>\n",
              "      <th>f15</th>\n",
              "      <th>f16</th>\n",
              "      <th>f17</th>\n",
              "      <th>f18</th>\n",
              "      <th>f19</th>\n",
              "      <th>f20</th>\n",
              "      <th>f21</th>\n",
              "      <th>f22</th>\n",
              "      <th>f23</th>\n",
              "      <th>f24</th>\n",
              "      <th>f25</th>\n",
              "      <th>f26</th>\n",
              "      <th>f27</th>\n",
              "      <th>f28</th>\n",
              "      <th>f29</th>\n",
              "      <th>f30</th>\n",
              "      <th>f31</th>\n",
              "      <th>f32</th>\n",
              "      <th>f33</th>\n",
              "      <th>f34</th>\n",
              "      <th>f35</th>\n",
              "      <th>f36</th>\n",
              "      <th>f37</th>\n",
              "      <th>f38</th>\n",
              "      <th>f39</th>\n",
              "      <th>...</th>\n",
              "      <th>f135</th>\n",
              "      <th>f136</th>\n",
              "      <th>f137</th>\n",
              "      <th>f138</th>\n",
              "      <th>f139</th>\n",
              "      <th>f140</th>\n",
              "      <th>f141</th>\n",
              "      <th>f142</th>\n",
              "      <th>f143</th>\n",
              "      <th>f144</th>\n",
              "      <th>f145</th>\n",
              "      <th>f146</th>\n",
              "      <th>f147</th>\n",
              "      <th>f148</th>\n",
              "      <th>f149</th>\n",
              "      <th>f150</th>\n",
              "      <th>f151</th>\n",
              "      <th>f152</th>\n",
              "      <th>f153</th>\n",
              "      <th>f154</th>\n",
              "      <th>f155</th>\n",
              "      <th>f156</th>\n",
              "      <th>f157</th>\n",
              "      <th>f158</th>\n",
              "      <th>f159</th>\n",
              "      <th>f160</th>\n",
              "      <th>f161</th>\n",
              "      <th>f162</th>\n",
              "      <th>f163</th>\n",
              "      <th>f164</th>\n",
              "      <th>f165</th>\n",
              "      <th>f166</th>\n",
              "      <th>f167</th>\n",
              "      <th>f168</th>\n",
              "      <th>f169</th>\n",
              "      <th>f170</th>\n",
              "      <th>f171</th>\n",
              "      <th>f172</th>\n",
              "      <th>f173</th>\n",
              "      <th>f174</th>\n",
              "    </tr>\n",
              "  </thead>\n",
              "  <tbody>\n",
              "    <tr>\n",
              "      <th>0</th>\n",
              "      <td>1</td>\n",
              "      <td>-13.559</td>\n",
              "      <td>-21.407</td>\n",
              "      <td>-11.4040</td>\n",
              "      <td>-15.248</td>\n",
              "      <td>-11.923</td>\n",
              "      <td>-15.291</td>\n",
              "      <td>-2.1548</td>\n",
              "      <td>-7.8474</td>\n",
              "      <td>-10.0020</td>\n",
              "      <td>0.04239</td>\n",
              "      <td>3.3253</td>\n",
              "      <td>3.3677</td>\n",
              "      <td>0.35631</td>\n",
              "      <td>0.058490</td>\n",
              "      <td>0.58520</td>\n",
              "      <td>0.24150</td>\n",
              "      <td>0.51934</td>\n",
              "      <td>0.23916</td>\n",
              "      <td>-0.62424</td>\n",
              "      <td>-0.81493</td>\n",
              "      <td>-0.70844</td>\n",
              "      <td>-0.65641</td>\n",
              "      <td>-0.19568</td>\n",
              "      <td>-0.63160</td>\n",
              "      <td>0.091945</td>\n",
              "      <td>0.026703</td>\n",
              "      <td>0.005017</td>\n",
              "      <td>0.62019</td>\n",
              "      <td>0.68370</td>\n",
              "      <td>44.369</td>\n",
              "      <td>0.42402</td>\n",
              "      <td>0.19617</td>\n",
              "      <td>0.25967</td>\n",
              "      <td>0.12013</td>\n",
              "      <td>0.054561</td>\n",
              "      <td>0.16226</td>\n",
              "      <td>-11.923</td>\n",
              "      <td>-12.823</td>\n",
              "      <td>-21.407</td>\n",
              "      <td>...</td>\n",
              "      <td>0.13580</td>\n",
              "      <td>0.650770</td>\n",
              "      <td>6711</td>\n",
              "      <td>6143</td>\n",
              "      <td>4570</td>\n",
              "      <td>5064</td>\n",
              "      <td>8212</td>\n",
              "      <td>0.28493</td>\n",
              "      <td>1.7969</td>\n",
              "      <td>1.3442</td>\n",
              "      <td>-0.61941</td>\n",
              "      <td>0.54346</td>\n",
              "      <td>0.42738</td>\n",
              "      <td>0.14683</td>\n",
              "      <td>0.144130</td>\n",
              "      <td>0.58593</td>\n",
              "      <td>0.23712</td>\n",
              "      <td>1.6216</td>\n",
              "      <td>0.23712</td>\n",
              "      <td>294110.0</td>\n",
              "      <td>0.051277</td>\n",
              "      <td>2199.4</td>\n",
              "      <td>92560.0</td>\n",
              "      <td>1.1081</td>\n",
              "      <td>48.444</td>\n",
              "      <td>3.13580</td>\n",
              "      <td>0.57778</td>\n",
              "      <td>2.44440</td>\n",
              "      <td>1.11110</td>\n",
              "      <td>1.8310</td>\n",
              "      <td>0.18519</td>\n",
              "      <td>0.72602</td>\n",
              "      <td>5.3333</td>\n",
              "      <td>6.000000</td>\n",
              "      <td>0.29489</td>\n",
              "      <td>9.77780</td>\n",
              "      <td>2.44440</td>\n",
              "      <td>1.67700</td>\n",
              "      <td>0.20988</td>\n",
              "      <td>0.65422</td>\n",
              "    </tr>\n",
              "    <tr>\n",
              "      <th>1</th>\n",
              "      <td>1</td>\n",
              "      <td>-12.802</td>\n",
              "      <td>-20.335</td>\n",
              "      <td>-10.3990</td>\n",
              "      <td>-14.132</td>\n",
              "      <td>-11.096</td>\n",
              "      <td>-14.361</td>\n",
              "      <td>-2.4039</td>\n",
              "      <td>-7.5330</td>\n",
              "      <td>-9.9369</td>\n",
              "      <td>0.22842</td>\n",
              "      <td>3.0360</td>\n",
              "      <td>3.2644</td>\n",
              "      <td>0.34295</td>\n",
              "      <td>0.060525</td>\n",
              "      <td>0.59652</td>\n",
              "      <td>0.25249</td>\n",
              "      <td>0.50796</td>\n",
              "      <td>0.23955</td>\n",
              "      <td>-0.57229</td>\n",
              "      <td>-0.74854</td>\n",
              "      <td>-0.64839</td>\n",
              "      <td>-0.62810</td>\n",
              "      <td>-0.18825</td>\n",
              "      <td>-0.55448</td>\n",
              "      <td>0.115710</td>\n",
              "      <td>0.031183</td>\n",
              "      <td>0.006051</td>\n",
              "      <td>0.60356</td>\n",
              "      <td>0.67496</td>\n",
              "      <td>44.992</td>\n",
              "      <td>0.40738</td>\n",
              "      <td>0.19618</td>\n",
              "      <td>0.26758</td>\n",
              "      <td>0.12886</td>\n",
              "      <td>0.052298</td>\n",
              "      <td>0.15826</td>\n",
              "      <td>-11.096</td>\n",
              "      <td>-11.805</td>\n",
              "      <td>-20.335</td>\n",
              "      <td>...</td>\n",
              "      <td>0.30864</td>\n",
              "      <td>0.104830</td>\n",
              "      <td>6274</td>\n",
              "      <td>5084</td>\n",
              "      <td>3297</td>\n",
              "      <td>3777</td>\n",
              "      <td>8214</td>\n",
              "      <td>0.42716</td>\n",
              "      <td>2.4914</td>\n",
              "      <td>1.5420</td>\n",
              "      <td>-0.64500</td>\n",
              "      <td>0.92501</td>\n",
              "      <td>0.64071</td>\n",
              "      <td>0.21322</td>\n",
              "      <td>0.235370</td>\n",
              "      <td>0.75089</td>\n",
              "      <td>0.37003</td>\n",
              "      <td>2.1747</td>\n",
              "      <td>0.37003</td>\n",
              "      <td>412400.0</td>\n",
              "      <td>0.067854</td>\n",
              "      <td>2338.4</td>\n",
              "      <td>100280.0</td>\n",
              "      <td>1.1456</td>\n",
              "      <td>49.778</td>\n",
              "      <td>0.39506</td>\n",
              "      <td>0.46667</td>\n",
              "      <td>1.33330</td>\n",
              "      <td>1.11110</td>\n",
              "      <td>1.2149</td>\n",
              "      <td>0.33333</td>\n",
              "      <td>-0.48751</td>\n",
              "      <td>2.1111</td>\n",
              "      <td>0.098765</td>\n",
              "      <td>0.83333</td>\n",
              "      <td>0.33333</td>\n",
              "      <td>0.33333</td>\n",
              "      <td>0.84869</td>\n",
              "      <td>0.50617</td>\n",
              "      <td>-0.18898</td>\n",
              "    </tr>\n",
              "    <tr>\n",
              "      <th>2</th>\n",
              "      <td>1</td>\n",
              "      <td>-12.431</td>\n",
              "      <td>-19.902</td>\n",
              "      <td>-10.0740</td>\n",
              "      <td>-13.598</td>\n",
              "      <td>-10.829</td>\n",
              "      <td>-14.048</td>\n",
              "      <td>-2.3566</td>\n",
              "      <td>-7.4717</td>\n",
              "      <td>-9.8283</td>\n",
              "      <td>0.44978</td>\n",
              "      <td>2.7687</td>\n",
              "      <td>3.2185</td>\n",
              "      <td>0.34489</td>\n",
              "      <td>0.061731</td>\n",
              "      <td>0.59338</td>\n",
              "      <td>0.26362</td>\n",
              "      <td>0.49870</td>\n",
              "      <td>0.23768</td>\n",
              "      <td>-0.53347</td>\n",
              "      <td>-0.70253</td>\n",
              "      <td>-0.58846</td>\n",
              "      <td>-0.61836</td>\n",
              "      <td>-0.17804</td>\n",
              "      <td>-0.48642</td>\n",
              "      <td>0.127130</td>\n",
              "      <td>0.032382</td>\n",
              "      <td>0.006162</td>\n",
              "      <td>0.58683</td>\n",
              "      <td>0.68024</td>\n",
              "      <td>45.466</td>\n",
              "      <td>0.39919</td>\n",
              "      <td>0.18764</td>\n",
              "      <td>0.28105</td>\n",
              "      <td>0.13211</td>\n",
              "      <td>0.048473</td>\n",
              "      <td>0.14878</td>\n",
              "      <td>-10.829</td>\n",
              "      <td>-11.377</td>\n",
              "      <td>-19.902</td>\n",
              "      <td>...</td>\n",
              "      <td>0.30864</td>\n",
              "      <td>0.613940</td>\n",
              "      <td>6215</td>\n",
              "      <td>5035</td>\n",
              "      <td>3033</td>\n",
              "      <td>3837</td>\n",
              "      <td>8588</td>\n",
              "      <td>0.47801</td>\n",
              "      <td>2.8315</td>\n",
              "      <td>1.6601</td>\n",
              "      <td>-0.70049</td>\n",
              "      <td>1.03530</td>\n",
              "      <td>0.71699</td>\n",
              "      <td>0.24814</td>\n",
              "      <td>0.260810</td>\n",
              "      <td>0.80946</td>\n",
              "      <td>0.38237</td>\n",
              "      <td>2.2382</td>\n",
              "      <td>0.38237</td>\n",
              "      <td>439570.0</td>\n",
              "      <td>0.117030</td>\n",
              "      <td>3321.3</td>\n",
              "      <td>128320.0</td>\n",
              "      <td>1.2651</td>\n",
              "      <td>49.444</td>\n",
              "      <td>0.24691</td>\n",
              "      <td>0.61111</td>\n",
              "      <td>0.77778</td>\n",
              "      <td>0.77778</td>\n",
              "      <td>1.3689</td>\n",
              "      <td>0.25926</td>\n",
              "      <td>0.25298</td>\n",
              "      <td>2.2222</td>\n",
              "      <td>0.172840</td>\n",
              "      <td>0.68889</td>\n",
              "      <td>0.88889</td>\n",
              "      <td>0.66667</td>\n",
              "      <td>1.27300</td>\n",
              "      <td>0.30864</td>\n",
              "      <td>0.10483</td>\n",
              "    </tr>\n",
              "    <tr>\n",
              "      <th>3</th>\n",
              "      <td>1</td>\n",
              "      <td>-12.689</td>\n",
              "      <td>-19.529</td>\n",
              "      <td>-10.0280</td>\n",
              "      <td>-13.350</td>\n",
              "      <td>-11.056</td>\n",
              "      <td>-14.014</td>\n",
              "      <td>-2.6611</td>\n",
              "      <td>-6.8396</td>\n",
              "      <td>-9.5006</td>\n",
              "      <td>0.66378</td>\n",
              "      <td>2.2942</td>\n",
              "      <td>2.9580</td>\n",
              "      <td>0.32760</td>\n",
              "      <td>0.067825</td>\n",
              "      <td>0.60457</td>\n",
              "      <td>0.28135</td>\n",
              "      <td>0.47717</td>\n",
              "      <td>0.24148</td>\n",
              "      <td>-0.50405</td>\n",
              "      <td>-0.66998</td>\n",
              "      <td>-0.52543</td>\n",
              "      <td>-0.61169</td>\n",
              "      <td>-0.17507</td>\n",
              "      <td>-0.43576</td>\n",
              "      <td>0.127200</td>\n",
              "      <td>0.031091</td>\n",
              "      <td>0.006040</td>\n",
              "      <td>0.57769</td>\n",
              "      <td>0.67468</td>\n",
              "      <td>46.654</td>\n",
              "      <td>0.38976</td>\n",
              "      <td>0.18793</td>\n",
              "      <td>0.28492</td>\n",
              "      <td>0.13738</td>\n",
              "      <td>0.047480</td>\n",
              "      <td>0.14701</td>\n",
              "      <td>-11.056</td>\n",
              "      <td>-11.263</td>\n",
              "      <td>-19.529</td>\n",
              "      <td>...</td>\n",
              "      <td>0.16049</td>\n",
              "      <td>0.064018</td>\n",
              "      <td>6836</td>\n",
              "      <td>5745</td>\n",
              "      <td>4212</td>\n",
              "      <td>4534</td>\n",
              "      <td>7691</td>\n",
              "      <td>0.29228</td>\n",
              "      <td>1.8260</td>\n",
              "      <td>1.3640</td>\n",
              "      <td>-0.47512</td>\n",
              "      <td>0.65772</td>\n",
              "      <td>0.43840</td>\n",
              "      <td>0.15396</td>\n",
              "      <td>0.144830</td>\n",
              "      <td>0.60147</td>\n",
              "      <td>0.25824</td>\n",
              "      <td>1.6963</td>\n",
              "      <td>0.25824</td>\n",
              "      <td>296240.0</td>\n",
              "      <td>0.036817</td>\n",
              "      <td>1748.1</td>\n",
              "      <td>80640.0</td>\n",
              "      <td>1.0764</td>\n",
              "      <td>50.667</td>\n",
              "      <td>0.88889</td>\n",
              "      <td>0.61111</td>\n",
              "      <td>0.77778</td>\n",
              "      <td>0.77778</td>\n",
              "      <td>1.8892</td>\n",
              "      <td>0.16049</td>\n",
              "      <td>0.43750</td>\n",
              "      <td>4.1111</td>\n",
              "      <td>0.320990</td>\n",
              "      <td>0.83333</td>\n",
              "      <td>0.33333</td>\n",
              "      <td>0.33333</td>\n",
              "      <td>1.14910</td>\n",
              "      <td>0.38272</td>\n",
              "      <td>0.41603</td>\n",
              "    </tr>\n",
              "    <tr>\n",
              "      <th>4</th>\n",
              "      <td>1</td>\n",
              "      <td>-12.686</td>\n",
              "      <td>-19.278</td>\n",
              "      <td>-9.8185</td>\n",
              "      <td>-13.108</td>\n",
              "      <td>-10.932</td>\n",
              "      <td>-13.939</td>\n",
              "      <td>-2.8675</td>\n",
              "      <td>-6.5919</td>\n",
              "      <td>-9.4594</td>\n",
              "      <td>0.83143</td>\n",
              "      <td>2.1756</td>\n",
              "      <td>3.0070</td>\n",
              "      <td>0.31701</td>\n",
              "      <td>0.069483</td>\n",
              "      <td>0.61351</td>\n",
              "      <td>0.28768</td>\n",
              "      <td>0.47476</td>\n",
              "      <td>0.23756</td>\n",
              "      <td>-0.50314</td>\n",
              "      <td>-0.68221</td>\n",
              "      <td>-0.50731</td>\n",
              "      <td>-0.59134</td>\n",
              "      <td>-0.17505</td>\n",
              "      <td>-0.45195</td>\n",
              "      <td>0.131550</td>\n",
              "      <td>0.031960</td>\n",
              "      <td>0.006439</td>\n",
              "      <td>0.57937</td>\n",
              "      <td>0.66460</td>\n",
              "      <td>46.828</td>\n",
              "      <td>0.38505</td>\n",
              "      <td>0.19432</td>\n",
              "      <td>0.27955</td>\n",
              "      <td>0.14108</td>\n",
              "      <td>0.048950</td>\n",
              "      <td>0.15156</td>\n",
              "      <td>-10.932</td>\n",
              "      <td>-11.109</td>\n",
              "      <td>-19.278</td>\n",
              "      <td>...</td>\n",
              "      <td>0.20988</td>\n",
              "      <td>0.657600</td>\n",
              "      <td>6682</td>\n",
              "      <td>5883</td>\n",
              "      <td>4434</td>\n",
              "      <td>4627</td>\n",
              "      <td>7072</td>\n",
              "      <td>0.22927</td>\n",
              "      <td>1.5949</td>\n",
              "      <td>1.3268</td>\n",
              "      <td>-0.40120</td>\n",
              "      <td>0.52776</td>\n",
              "      <td>0.34389</td>\n",
              "      <td>0.14045</td>\n",
              "      <td>0.091779</td>\n",
              "      <td>0.53551</td>\n",
              "      <td>0.20899</td>\n",
              "      <td>1.5284</td>\n",
              "      <td>0.20899</td>\n",
              "      <td>232610.0</td>\n",
              "      <td>0.021300</td>\n",
              "      <td>1365.4</td>\n",
              "      <td>69540.0</td>\n",
              "      <td>1.0435</td>\n",
              "      <td>51.222</td>\n",
              "      <td>0.39506</td>\n",
              "      <td>0.56667</td>\n",
              "      <td>1.66670</td>\n",
              "      <td>1.00000</td>\n",
              "      <td>1.7351</td>\n",
              "      <td>0.18519</td>\n",
              "      <td>0.35000</td>\n",
              "      <td>4.0000</td>\n",
              "      <td>0.444440</td>\n",
              "      <td>0.68889</td>\n",
              "      <td>0.88889</td>\n",
              "      <td>0.66667</td>\n",
              "      <td>1.58110</td>\n",
              "      <td>0.20988</td>\n",
              "      <td>0.50000</td>\n",
              "    </tr>\n",
              "  </tbody>\n",
              "</table>\n",
              "<p>5 rows × 175 columns</p>\n",
              "</div>"
            ],
            "text/plain": [
              "   label      f1      f2       f3  ...     f171     f172     f173     f174\n",
              "0      1 -13.559 -21.407 -11.4040  ...  2.44440  1.67700  0.20988  0.65422\n",
              "1      1 -12.802 -20.335 -10.3990  ...  0.33333  0.84869  0.50617 -0.18898\n",
              "2      1 -12.431 -19.902 -10.0740  ...  0.66667  1.27300  0.30864  0.10483\n",
              "3      1 -12.689 -19.529 -10.0280  ...  0.33333  1.14910  0.38272  0.41603\n",
              "4      1 -12.686 -19.278  -9.8185  ...  0.66667  1.58110  0.20988  0.50000\n",
              "\n",
              "[5 rows x 175 columns]"
            ]
          },
          "metadata": {
            "tags": []
          },
          "execution_count": 16
        }
      ]
    },
    {
      "cell_type": "code",
      "metadata": {
        "id": "zYElAvRfl2QY",
        "colab": {
          "base_uri": "https://localhost:8080/"
        },
        "outputId": "38d737dd-d33a-472e-e427-573f3a0ada04"
      },
      "source": [
        "from sklearn.model_selection import train_test_split\n",
        "\n",
        "X = dataTrain.iloc[:,1:].values\n",
        "y = dataTrain.iloc[:,0].values\n",
        "\n",
        "X_train, X_test, y_train, y_test = train_test_split(X, y, test_size=0.0001, random_state=0)\n",
        "\n",
        "print(X_train.shape)\n",
        "print(X_test.shape)\n",
        "\n",
        "from sklearn.preprocessing import StandardScaler\n",
        "\n",
        "sc = StandardScaler()\n",
        "X_train = sc.fit_transform(X_train)\n",
        "X_test = sc.transform(X_test)\n",
        "\n"
      ],
      "execution_count": 19,
      "outputs": [
        {
          "output_type": "stream",
          "text": [
            "(325801, 174)\n",
            "(33, 174)\n"
          ],
          "name": "stdout"
        }
      ]
    },
    {
      "cell_type": "code",
      "metadata": {
        "id": "nv7zrRKmyI1K",
        "colab": {
          "base_uri": "https://localhost:8080/"
        },
        "outputId": "c17315a1-0305-42c6-88e5-bbd240398ebe"
      },
      "source": [
        "X_train"
      ],
      "execution_count": 18,
      "outputs": [
        {
          "output_type": "execute_result",
          "data": {
            "text/plain": [
              "array([[-13.559  , -21.407  , -11.404  , ...,   1.677  ,   0.20988,\n",
              "          0.65422],\n",
              "       [-12.802  , -20.335  , -10.399  , ...,   0.84869,   0.50617,\n",
              "         -0.18898],\n",
              "       [-12.431  , -19.902  , -10.074  , ...,   1.273  ,   0.30864,\n",
              "          0.10483],\n",
              "       ...,\n",
              "       [ -1.927  , -11.416  ,  -2.4354 , ...,   1.273  ,   0.30864,\n",
              "          0.31623],\n",
              "       [  0.12483, -10.144  ,  -0.62193, ...,   0.34883,   0.80247,\n",
              "          0.18898],\n",
              "       [  0.20063, -10.05   ,  -0.59892, ...,   2.0432 ,   0.1358 ,\n",
              "          0.72732]])"
            ]
          },
          "metadata": {
            "tags": []
          },
          "execution_count": 18
        }
      ]
    },
    {
      "cell_type": "code",
      "metadata": {
        "id": "QXscjzzmmMde"
      },
      "source": [
        "\n",
        "from sklearn.discriminant_analysis import LinearDiscriminantAnalysis, QuadraticDiscriminantAnalysis\n",
        "from sklearn.metrics import confusion_matrix, classification_report, precision_score\n",
        "\n",
        "from sklearn.neighbors import KNeighborsClassifier\n",
        "\n",
        "\n",
        "\n",
        "from sklearn import preprocessing\n",
        "\n",
        "KNN = KNeighborsClassifier(n_neighbors=5)\n",
        "\n",
        "model = KNN.fit(X_train, y_train)\n",
        "\n",
        "pred=model.predict(X_test)\n"
      ],
      "execution_count": 20,
      "outputs": []
    },
    {
      "cell_type": "code",
      "metadata": {
        "id": "7OqTPCbZnZas",
        "colab": {
          "base_uri": "https://localhost:8080/"
        },
        "outputId": "b4b43950-19f2-4db0-a97d-44393e739231"
      },
      "source": [
        "model"
      ],
      "execution_count": 7,
      "outputs": [
        {
          "output_type": "execute_result",
          "data": {
            "text/plain": [
              "LinearDiscriminantAnalysis(n_components=None, priors=None, shrinkage=None,\n",
              "                           solver='svd', store_covariance=False, tol=0.0001)"
            ]
          },
          "metadata": {
            "tags": []
          },
          "execution_count": 7
        }
      ]
    },
    {
      "cell_type": "code",
      "metadata": {
        "id": "EBAGzY38nm_c",
        "colab": {
          "base_uri": "https://localhost:8080/"
        },
        "outputId": "9ed69024-fa7b-4b13-b2b7-6ee3e7e58ba3"
      },
      "source": [
        "print(confusion_matrix(pred, y_test))\n",
        "print(classification_report(y_test, pred, digits=3))"
      ],
      "execution_count": 21,
      "outputs": [
        {
          "output_type": "stream",
          "text": [
            "[[ 5  0  0  0  0  0]\n",
            " [ 0  1  0  0  0  0]\n",
            " [ 0  0  5  0  0  0]\n",
            " [ 0  0  0 10  0  0]\n",
            " [ 0  0  0  0  1  0]\n",
            " [ 0  0  0  0  0 11]]\n",
            "              precision    recall  f1-score   support\n",
            "\n",
            "           1      1.000     1.000     1.000         5\n",
            "           2      1.000     1.000     1.000         1\n",
            "           3      1.000     1.000     1.000         5\n",
            "           4      1.000     1.000     1.000        10\n",
            "           5      1.000     1.000     1.000         1\n",
            "           6      1.000     1.000     1.000        11\n",
            "\n",
            "    accuracy                          1.000        33\n",
            "   macro avg      1.000     1.000     1.000        33\n",
            "weighted avg      1.000     1.000     1.000        33\n",
            "\n"
          ],
          "name": "stdout"
        }
      ]
    },
    {
      "cell_type": "code",
      "metadata": {
        "id": "dLSSvthLn3Za",
        "colab": {
          "base_uri": "https://localhost:8080/",
          "height": 313
        },
        "outputId": "5bb963e5-2fbd-4f7b-9a8d-b54d2120321d"
      },
      "source": [
        "import seaborn as sn\n",
        "import matplotlib.pyplot as plt\n",
        "\n",
        "cm_lda = confusion_matrix(pred, y_test)\n",
        "cm_lda.astype(int)\n",
        "\n",
        "df_cm = pd.DataFrame(cm_lda, range(6), range(6))\n",
        "\n",
        "ax = plt.subplot()\n",
        "plt.figure()\n",
        "sn.heatmap(df_cm, annot=True, annot_kws={\"size\": 16}, fmt='g', ax = ax)\n",
        "\n",
        "\n",
        "ax.set_title('Confusion Matrix'); \n",
        "ax.set_xlabel('Predicted labels');ax.set_ylabel('True labels'); \n",
        "ax.xaxis.set_ticklabels(['benign', 'malignant']); ax.yaxis.set_ticklabels(['benign', 'malignant']);\n"
      ],
      "execution_count": 22,
      "outputs": [
        {
          "output_type": "display_data",
          "data": {
            "image/png": "[encoded data removed]",
            "text/plain": [
              "<Figure size 432x288 with 2 Axes>"
            ]
          },
          "metadata": {
            "tags": [],
            "needs_background": "light"
          }
        },
        {
          "output_type": "display_data",
          "data": {
            "text/plain": [
              "<Figure size 432x288 with 0 Axes>"
            ]
          },
          "metadata": {
            "tags": []
          }
        }
      ]
    },
    {
      "cell_type": "code",
      "metadata": {
        "id": "UClYDq0o79Ib"
      },
      "source": [
        "from math import sqrt"
      ],
      "execution_count": 20,
      "outputs": []
    },
    {
      "cell_type": "code",
      "metadata": {
        "id": "wO_x0ptxiLBR"
      },
      "source": [
        "def predict_test_class(NN_df, y_train):\n",
        "\n",
        "  y_train_df = pd.DataFrame()\n",
        "  y_train_df['counter'] = range(y_train.shape[0])\n",
        "  y_train_df['y_vals'] = y_train\n",
        " \n",
        "\n",
        "  y_val_df = pd.merge(y_train_df, NN_df)\n",
        " \n",
        "\n",
        "  max_y_val = y_val_df['y_vals'].mode()\n",
        "  return max_y_val\n",
        "\n",
        "  "
      ],
      "execution_count": 23,
      "outputs": []
    },
    {
      "cell_type": "code",
      "metadata": {
        "id": "CCVwdWFyatWK"
      },
      "source": [
        "def distance_to_center(train,test,y_train, k):\n",
        "\n",
        "\n",
        "\n",
        "  distance = np.zeros((1, train.shape[0]))\n",
        "\n",
        "  for train_row in range(train.shape[0]):\n",
        "    distance[0,train_row] = (np.linalg.norm((train[train_row,:] - test[:])))**2\n",
        "\n",
        "\n",
        "  distance_df = pd.DataFrame()\n",
        "  distance_df['counter'] = range(distance.shape[1])\n",
        "  distance_df['dist'] = distance[0,:]\n",
        "\n",
        "  distance_df = distance_df.sort_values(by=['dist'])\n",
        "\n",
        "\n",
        "  nearest_neighbors = distance_df.iloc[0:k,:]\n",
        "  predicted_class = predict_test_class(nearest_neighbors,y_train)\n",
        " \n",
        "   \n",
        "\n",
        "  return predicted_class\n"
      ],
      "execution_count": 24,
      "outputs": []
    },
    {
      "cell_type": "code",
      "metadata": {
        "id": "mgq-yXg5zaPv"
      },
      "source": [
        "def get_predictions(X_train,X_test,y_train,y_test):\n",
        "\n",
        "  k = 5\n",
        "  pred_class = np.zeros((1, X_test.shape[0]))\n",
        "  for i in range(X_test.shape[0]):\n",
        "    pred_class[0,i] = distance_to_center(X_train,X_test[i,:],y_train, k)\n",
        "    print(pred_class)\n",
        "\n",
        "  return pred_class\n"
      ],
      "execution_count": 27,
      "outputs": []
    },
    {
      "cell_type": "code",
      "metadata": {
        "colab": {
          "base_uri": "https://localhost:8080/"
        },
        "id": "sxQ3MVbt1i18",
        "outputId": "f9d55490-9c9c-49d1-f791-2b639f0f5dda"
      },
      "source": [
        "pred = get_predictions(X_train,X_test,y_train,y_test)"
      ],
      "execution_count": 28,
      "outputs": [
        {
          "output_type": "stream",
          "text": [
            "[[3. 0. 0. 0. 0. 0. 0. 0. 0. 0. 0. 0. 0. 0. 0. 0. 0. 0. 0. 0. 0. 0. 0. 0.\n",
            "  0. 0. 0. 0. 0. 0. 0. 0. 0.]]\n",
            "[[3. 4. 0. 0. 0. 0. 0. 0. 0. 0. 0. 0. 0. 0. 0. 0. 0. 0. 0. 0. 0. 0. 0. 0.\n",
            "  0. 0. 0. 0. 0. 0. 0. 0. 0.]]\n",
            "[[3. 4. 1. 0. 0. 0. 0. 0. 0. 0. 0. 0. 0. 0. 0. 0. 0. 0. 0. 0. 0. 0. 0. 0.\n",
            "  0. 0. 0. 0. 0. 0. 0. 0. 0.]]\n",
            "[[3. 4. 1. 6. 0. 0. 0. 0. 0. 0. 0. 0. 0. 0. 0. 0. 0. 0. 0. 0. 0. 0. 0. 0.\n",
            "  0. 0. 0. 0. 0. 0. 0. 0. 0.]]\n",
            "[[3. 4. 1. 6. 1. 0. 0. 0. 0. 0. 0. 0. 0. 0. 0. 0. 0. 0. 0. 0. 0. 0. 0. 0.\n",
            "  0. 0. 0. 0. 0. 0. 0. 0. 0.]]\n",
            "[[3. 4. 1. 6. 1. 2. 0. 0. 0. 0. 0. 0. 0. 0. 0. 0. 0. 0. 0. 0. 0. 0. 0. 0.\n",
            "  0. 0. 0. 0. 0. 0. 0. 0. 0.]]\n",
            "[[3. 4. 1. 6. 1. 2. 6. 0. 0. 0. 0. 0. 0. 0. 0. 0. 0. 0. 0. 0. 0. 0. 0. 0.\n",
            "  0. 0. 0. 0. 0. 0. 0. 0. 0.]]\n",
            "[[3. 4. 1. 6. 1. 2. 6. 6. 0. 0. 0. 0. 0. 0. 0. 0. 0. 0. 0. 0. 0. 0. 0. 0.\n",
            "  0. 0. 0. 0. 0. 0. 0. 0. 0.]]\n",
            "[[3. 4. 1. 6. 1. 2. 6. 6. 6. 0. 0. 0. 0. 0. 0. 0. 0. 0. 0. 0. 0. 0. 0. 0.\n",
            "  0. 0. 0. 0. 0. 0. 0. 0. 0.]]\n",
            "[[3. 4. 1. 6. 1. 2. 6. 6. 6. 6. 0. 0. 0. 0. 0. 0. 0. 0. 0. 0. 0. 0. 0. 0.\n",
            "  0. 0. 0. 0. 0. 0. 0. 0. 0.]]\n",
            "[[3. 4. 1. 6. 1. 2. 6. 6. 6. 6. 4. 0. 0. 0. 0. 0. 0. 0. 0. 0. 0. 0. 0. 0.\n",
            "  0. 0. 0. 0. 0. 0. 0. 0. 0.]]\n",
            "[[3. 4. 1. 6. 1. 2. 6. 6. 6. 6. 4. 3. 0. 0. 0. 0. 0. 0. 0. 0. 0. 0. 0. 0.\n",
            "  0. 0. 0. 0. 0. 0. 0. 0. 0.]]\n",
            "[[3. 4. 1. 6. 1. 2. 6. 6. 6. 6. 4. 3. 4. 0. 0. 0. 0. 0. 0. 0. 0. 0. 0. 0.\n",
            "  0. 0. 0. 0. 0. 0. 0. 0. 0.]]\n",
            "[[3. 4. 1. 6. 1. 2. 6. 6. 6. 6. 4. 3. 4. 6. 0. 0. 0. 0. 0. 0. 0. 0. 0. 0.\n",
            "  0. 0. 0. 0. 0. 0. 0. 0. 0.]]\n",
            "[[3. 4. 1. 6. 1. 2. 6. 6. 6. 6. 4. 3. 4. 6. 3. 0. 0. 0. 0. 0. 0. 0. 0. 0.\n",
            "  0. 0. 0. 0. 0. 0. 0. 0. 0.]]\n",
            "[[3. 4. 1. 6. 1. 2. 6. 6. 6. 6. 4. 3. 4. 6. 3. 6. 0. 0. 0. 0. 0. 0. 0. 0.\n",
            "  0. 0. 0. 0. 0. 0. 0. 0. 0.]]\n",
            "[[3. 4. 1. 6. 1. 2. 6. 6. 6. 6. 4. 3. 4. 6. 3. 6. 6. 0. 0. 0. 0. 0. 0. 0.\n",
            "  0. 0. 0. 0. 0. 0. 0. 0. 0.]]\n",
            "[[3. 4. 1. 6. 1. 2. 6. 6. 6. 6. 4. 3. 4. 6. 3. 6. 6. 4. 0. 0. 0. 0. 0. 0.\n",
            "  0. 0. 0. 0. 0. 0. 0. 0. 0.]]\n",
            "[[3. 4. 1. 6. 1. 2. 6. 6. 6. 6. 4. 3. 4. 6. 3. 6. 6. 4. 4. 0. 0. 0. 0. 0.\n",
            "  0. 0. 0. 0. 0. 0. 0. 0. 0.]]\n",
            "[[3. 4. 1. 6. 1. 2. 6. 6. 6. 6. 4. 3. 4. 6. 3. 6. 6. 4. 4. 4. 0. 0. 0. 0.\n",
            "  0. 0. 0. 0. 0. 0. 0. 0. 0.]]\n",
            "[[3. 4. 1. 6. 1. 2. 6. 6. 6. 6. 4. 3. 4. 6. 3. 6. 6. 4. 4. 4. 1. 0. 0. 0.\n",
            "  0. 0. 0. 0. 0. 0. 0. 0. 0.]]\n",
            "[[3. 4. 1. 6. 1. 2. 6. 6. 6. 6. 4. 3. 4. 6. 3. 6. 6. 4. 4. 4. 1. 4. 0. 0.\n",
            "  0. 0. 0. 0. 0. 0. 0. 0. 0.]]\n",
            "[[3. 4. 1. 6. 1. 2. 6. 6. 6. 6. 4. 3. 4. 6. 3. 6. 6. 4. 4. 4. 1. 4. 4. 0.\n",
            "  0. 0. 0. 0. 0. 0. 0. 0. 0.]]\n",
            "[[3. 4. 1. 6. 1. 2. 6. 6. 6. 6. 4. 3. 4. 6. 3. 6. 6. 4. 4. 4. 1. 4. 4. 1.\n",
            "  0. 0. 0. 0. 0. 0. 0. 0. 0.]]\n",
            "[[3. 4. 1. 6. 1. 2. 6. 6. 6. 6. 4. 3. 4. 6. 3. 6. 6. 4. 4. 4. 1. 4. 4. 1.\n",
            "  6. 0. 0. 0. 0. 0. 0. 0. 0.]]\n",
            "[[3. 4. 1. 6. 1. 2. 6. 6. 6. 6. 4. 3. 4. 6. 3. 6. 6. 4. 4. 4. 1. 4. 4. 1.\n",
            "  6. 1. 0. 0. 0. 0. 0. 0. 0.]]\n",
            "[[3. 4. 1. 6. 1. 2. 6. 6. 6. 6. 4. 3. 4. 6. 3. 6. 6. 4. 4. 4. 1. 4. 4. 1.\n",
            "  6. 1. 4. 0. 0. 0. 0. 0. 0.]]\n",
            "[[3. 4. 1. 6. 1. 2. 6. 6. 6. 6. 4. 3. 4. 6. 3. 6. 6. 4. 4. 4. 1. 4. 4. 1.\n",
            "  6. 1. 4. 3. 0. 0. 0. 0. 0.]]\n",
            "[[3. 4. 1. 6. 1. 2. 6. 6. 6. 6. 4. 3. 4. 6. 3. 6. 6. 4. 4. 4. 1. 4. 4. 1.\n",
            "  6. 1. 4. 3. 5. 0. 0. 0. 0.]]\n",
            "[[3. 4. 1. 6. 1. 2. 6. 6. 6. 6. 4. 3. 4. 6. 3. 6. 6. 4. 4. 4. 1. 4. 4. 1.\n",
            "  6. 1. 4. 3. 5. 6. 0. 0. 0.]]\n",
            "[[3. 4. 1. 6. 1. 2. 6. 6. 6. 6. 4. 3. 4. 6. 3. 6. 6. 4. 4. 4. 1. 4. 4. 1.\n",
            "  6. 1. 4. 3. 5. 6. 6. 0. 0.]]\n",
            "[[3. 4. 1. 6. 1. 2. 6. 6. 6. 6. 4. 3. 4. 6. 3. 6. 6. 4. 4. 4. 1. 4. 4. 1.\n",
            "  6. 1. 4. 3. 5. 6. 6. 3. 0.]]\n",
            "[[3. 4. 1. 6. 1. 2. 6. 6. 6. 6. 4. 3. 4. 6. 3. 6. 6. 4. 4. 4. 1. 4. 4. 1.\n",
            "  6. 1. 4. 3. 5. 6. 6. 3. 4.]]\n"
          ],
          "name": "stdout"
        }
      ]
    },
    {
      "cell_type": "code",
      "metadata": {
        "colab": {
          "base_uri": "https://localhost:8080/"
        },
        "id": "vH-ece1VkM4m",
        "outputId": "2279d95a-aa34-4a41-e9c6-8798cc2cee83"
      },
      "source": [
        "pred.shape"
      ],
      "execution_count": 31,
      "outputs": [
        {
          "output_type": "execute_result",
          "data": {
            "text/plain": [
              "(1, 33)"
            ]
          },
          "metadata": {
            "tags": []
          },
          "execution_count": 31
        }
      ]
    },
    {
      "cell_type": "code",
      "metadata": {
        "id": "uRODRDAwscSC"
      },
      "source": [
        "def measure_accuracy(predicted, actual):\n",
        "\n",
        "  nCorrect = 0\n",
        "  nIncorrect = 0\n",
        "\n",
        "  for i in range(predicted.shape[1]):\n",
        "    if(predicted[0,i] == actual[i]):\n",
        "      nCorrect += 1\n",
        "\n",
        "    else:\n",
        "      nIncorrect +=1\n",
        "\n",
        "  return nCorrect/predicted.shape[1]\n",
        "\n",
        "\n"
      ],
      "execution_count": 32,
      "outputs": []
    },
    {
      "cell_type": "code",
      "metadata": {
        "colab": {
          "base_uri": "https://localhost:8080/"
        },
        "id": "KlpG00ZAxHN1",
        "outputId": "7d6e0a88-9769-4d33-cc4a-acfe7e2c83c3"
      },
      "source": [
        "measure_accuracy(pred,y_test)"
      ],
      "execution_count": 33,
      "outputs": [
        {
          "output_type": "execute_result",
          "data": {
            "text/plain": [
              "1.0"
            ]
          },
          "metadata": {
            "tags": []
          },
          "execution_count": 33
        }
      ]
    },
    {
      "cell_type": "markdown",
      "metadata": {
        "id": "zQDfO4HrHghO"
      },
      "source": [
        "The accuracy for KNN for 33 test samples is 100%"
      ]
    },
    {
      "cell_type": "code",
      "metadata": {
        "id": "LLNAbrDhIHbu"
      },
      "source": [
        ""
      ],
      "execution_count": null,
      "outputs": []
    }
  ]
}