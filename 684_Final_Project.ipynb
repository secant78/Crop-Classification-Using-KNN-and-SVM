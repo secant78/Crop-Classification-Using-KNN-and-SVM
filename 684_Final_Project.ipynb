{
  "nbformat": 4,
  "nbformat_minor": 0,
  "metadata": {
    "colab": {
      "name": "684_Final_Project",
      "provenance": [],
      "collapsed_sections": [],
      "include_colab_link": true
    },
    "kernelspec": {
      "name": "python3",
      "display_name": "Python 3"
    }
  },
  "cells": [
    {
      "cell_type": "markdown",
      "metadata": {
        "id": "view-in-github",
        "colab_type": "text"
      },
      "source": [
        "<a href=\"https://colab.research.google.com/github/secant78/Crop-Classification-Using-KNN-and-SVM/blob/main/684_Final_Project.ipynb\" target=\"_parent\"><img src=\"https://colab.research.google.com/assets/colab-badge.svg\" alt=\"Open In Colab\"/></a>"
      ]
    },
    {
      "cell_type": "code",
      "metadata": {
        "id": "3Fr4dzzbklyq",
        "colab": {
          "base_uri": "https://localhost:8080/"
        },
        "outputId": "b8c8d4c2-8f9d-4cbc-aa35-734d1a2cdd42"
      },
      "source": [
        "import os\n",
        "import math\n",
        "import string\n",
        "#import data set to list'\n",
        "import glob\n",
        "import pandas as pd\n",
        "import numpy as np\n",
        "\n",
        "\n",
        "#\"/content/drive/My Drive/\"\n",
        "from google.colab import drive\n",
        "drive.mount('/content/drive')"
      ],
      "execution_count": null,
      "outputs": [
        {
          "output_type": "stream",
          "text": [
            "Mounted at /content/drive\n"
          ],
          "name": "stdout"
        }
      ]
    },
    {
      "cell_type": "code",
      "metadata": {
        "id": "3pSAz9mqTlxI",
        "colab": {
          "base_uri": "https://localhost:8080/"
        },
        "outputId": "ebaaffac-d3c7-4267-94c3-5706c61db891"
      },
      "source": [
        "from google.colab import drive\n",
        "drive.mount('/content/drive')"
      ],
      "execution_count": null,
      "outputs": [
        {
          "output_type": "stream",
          "text": [
            "Drive already mounted at /content/drive; to attempt to forcibly remount, call drive.mount(\"/content/drive\", force_remount=True).\n"
          ],
          "name": "stdout"
        }
      ]
    },
    {
      "cell_type": "code",
      "metadata": {
        "id": "Gzm_EJ-ykodB"
      },
      "source": [
        "fileTrain = r'/content/drive/My Drive/CISC 684/forest_mapping/WinnipegDataset.txt'\n",
        "#filetrain1 = r'/content/drive/My Drive/CISC 684/forest_mapping/training.csv'\n",
        "#fileTest = r'/content/drive/My Drive/CISC 684/forest_mapping/testing.csv'\n",
        "\n",
        "dataTrain = pd.read_csv(fileTrain) #opens the file in read mode\n",
        "\n",
        "#datatrain1 = pd.read_csv(filetrain1)\n",
        "#datatest = pd.read_csv(fileTest)\n",
        "#dataTest = pd.read_csv(fileTest)\n",
        " #puts the file into an array\n",
        "        #words['a'] = words['a'].str.join(\" \") \n",
        "        #print(words)\n",
        "\n",
        "\n",
        "\n",
        "#datatrain1 = datatrain1[datatrain1[\"class\"] != \"s \"]\n",
        "#datatrain1 = datatrain1[datatrain1[\"class\"] != \"d \"]\n",
        "\n",
        "#datatest = datatest[datatest[\"class\"] != \"s \"]\n",
        "\\\n",
        "#datatest = datatest[datatest[\"class\"] != \"d \"]\n",
        "\n",
        "#datatest.head()\n",
        "#dataTest.head()\n",
        "\n",
        "#pcaData = pd.read_csv(filePCA)"
      ],
      "execution_count": null,
      "outputs": []
    },
    {
      "cell_type": "code",
      "metadata": {
        "colab": {
          "base_uri": "https://localhost:8080/",
          "height": 419
        },
        "id": "H7IH5E2xbdSo",
        "outputId": "d5fd4bd1-f2cb-4337-fba8-15f1b73bfac0"
      },
      "source": [
        "dataTrain"
      ],
      "execution_count": null,
      "outputs": [
        {
          "output_type": "execute_result",
          "data": {
            "text/html": [
              "<div>\n",
              "<style scoped>\n",
              "    .dataframe tbody tr th:only-of-type {\n",
              "        vertical-align: middle;\n",
              "    }\n",
              "\n",
              "    .dataframe tbody tr th {\n",
              "        vertical-align: top;\n",
              "    }\n",
              "\n",
              "    .dataframe thead th {\n",
              "        text-align: right;\n",
              "    }\n",
              "</style>\n",
              "<table border=\"1\" class=\"dataframe\">\n",
              "  <thead>\n",
              "    <tr style=\"text-align: right;\">\n",
              "      <th></th>\n",
              "      <th>label</th>\n",
              "      <th>f1</th>\n",
              "      <th>f2</th>\n",
              "      <th>f3</th>\n",
              "      <th>f4</th>\n",
              "      <th>f5</th>\n",
              "      <th>f6</th>\n",
              "      <th>f7</th>\n",
              "      <th>f8</th>\n",
              "      <th>f9</th>\n",
              "      <th>f10</th>\n",
              "      <th>f11</th>\n",
              "      <th>f12</th>\n",
              "      <th>f13</th>\n",
              "      <th>f14</th>\n",
              "      <th>f15</th>\n",
              "      <th>f16</th>\n",
              "      <th>f17</th>\n",
              "      <th>f18</th>\n",
              "      <th>f19</th>\n",
              "      <th>f20</th>\n",
              "      <th>f21</th>\n",
              "      <th>f22</th>\n",
              "      <th>f23</th>\n",
              "      <th>f24</th>\n",
              "      <th>f25</th>\n",
              "      <th>f26</th>\n",
              "      <th>f27</th>\n",
              "      <th>f28</th>\n",
              "      <th>f29</th>\n",
              "      <th>f30</th>\n",
              "      <th>f31</th>\n",
              "      <th>f32</th>\n",
              "      <th>f33</th>\n",
              "      <th>f34</th>\n",
              "      <th>f35</th>\n",
              "      <th>f36</th>\n",
              "      <th>f37</th>\n",
              "      <th>f38</th>\n",
              "      <th>f39</th>\n",
              "      <th>...</th>\n",
              "      <th>f135</th>\n",
              "      <th>f136</th>\n",
              "      <th>f137</th>\n",
              "      <th>f138</th>\n",
              "      <th>f139</th>\n",
              "      <th>f140</th>\n",
              "      <th>f141</th>\n",
              "      <th>f142</th>\n",
              "      <th>f143</th>\n",
              "      <th>f144</th>\n",
              "      <th>f145</th>\n",
              "      <th>f146</th>\n",
              "      <th>f147</th>\n",
              "      <th>f148</th>\n",
              "      <th>f149</th>\n",
              "      <th>f150</th>\n",
              "      <th>f151</th>\n",
              "      <th>f152</th>\n",
              "      <th>f153</th>\n",
              "      <th>f154</th>\n",
              "      <th>f155</th>\n",
              "      <th>f156</th>\n",
              "      <th>f157</th>\n",
              "      <th>f158</th>\n",
              "      <th>f159</th>\n",
              "      <th>f160</th>\n",
              "      <th>f161</th>\n",
              "      <th>f162</th>\n",
              "      <th>f163</th>\n",
              "      <th>f164</th>\n",
              "      <th>f165</th>\n",
              "      <th>f166</th>\n",
              "      <th>f167</th>\n",
              "      <th>f168</th>\n",
              "      <th>f169</th>\n",
              "      <th>f170</th>\n",
              "      <th>f171</th>\n",
              "      <th>f172</th>\n",
              "      <th>f173</th>\n",
              "      <th>f174</th>\n",
              "    </tr>\n",
              "  </thead>\n",
              "  <tbody>\n",
              "    <tr>\n",
              "      <th>0</th>\n",
              "      <td>1</td>\n",
              "      <td>-13.55900</td>\n",
              "      <td>-21.4070</td>\n",
              "      <td>-11.40400</td>\n",
              "      <td>-15.24800</td>\n",
              "      <td>-11.92300</td>\n",
              "      <td>-15.29100</td>\n",
              "      <td>-2.15480</td>\n",
              "      <td>-7.8474</td>\n",
              "      <td>-10.0020</td>\n",
              "      <td>0.042390</td>\n",
              "      <td>3.32530</td>\n",
              "      <td>3.36770</td>\n",
              "      <td>0.35631</td>\n",
              "      <td>0.058490</td>\n",
              "      <td>0.58520</td>\n",
              "      <td>0.24150</td>\n",
              "      <td>0.51934</td>\n",
              "      <td>0.23916</td>\n",
              "      <td>-0.62424</td>\n",
              "      <td>-0.81493</td>\n",
              "      <td>-0.70844</td>\n",
              "      <td>-0.65641</td>\n",
              "      <td>-0.195680</td>\n",
              "      <td>-0.63160</td>\n",
              "      <td>0.091945</td>\n",
              "      <td>0.026703</td>\n",
              "      <td>0.005017</td>\n",
              "      <td>0.62019</td>\n",
              "      <td>0.68370</td>\n",
              "      <td>44.369</td>\n",
              "      <td>0.42402</td>\n",
              "      <td>0.196170</td>\n",
              "      <td>0.25967</td>\n",
              "      <td>0.120130</td>\n",
              "      <td>0.054561</td>\n",
              "      <td>0.162260</td>\n",
              "      <td>-11.92300</td>\n",
              "      <td>-12.82300</td>\n",
              "      <td>-21.4070</td>\n",
              "      <td>...</td>\n",
              "      <td>0.13580</td>\n",
              "      <td>0.650770</td>\n",
              "      <td>6711</td>\n",
              "      <td>6143</td>\n",
              "      <td>4570</td>\n",
              "      <td>5064</td>\n",
              "      <td>8212</td>\n",
              "      <td>0.284930</td>\n",
              "      <td>1.7969</td>\n",
              "      <td>1.3442</td>\n",
              "      <td>-0.61941</td>\n",
              "      <td>0.54346</td>\n",
              "      <td>0.42738</td>\n",
              "      <td>0.14683</td>\n",
              "      <td>0.144130</td>\n",
              "      <td>0.58593</td>\n",
              "      <td>0.23712</td>\n",
              "      <td>1.6216</td>\n",
              "      <td>0.23712</td>\n",
              "      <td>294110.0</td>\n",
              "      <td>0.051277</td>\n",
              "      <td>2199.40</td>\n",
              "      <td>92560.0</td>\n",
              "      <td>1.10810</td>\n",
              "      <td>48.444</td>\n",
              "      <td>3.13580</td>\n",
              "      <td>0.57778</td>\n",
              "      <td>2.44440</td>\n",
              "      <td>1.11110</td>\n",
              "      <td>1.8310</td>\n",
              "      <td>0.18519</td>\n",
              "      <td>0.726020</td>\n",
              "      <td>5.3333</td>\n",
              "      <td>6.000000</td>\n",
              "      <td>0.29489</td>\n",
              "      <td>9.77780</td>\n",
              "      <td>2.44440</td>\n",
              "      <td>1.67700</td>\n",
              "      <td>0.20988</td>\n",
              "      <td>0.65422</td>\n",
              "    </tr>\n",
              "    <tr>\n",
              "      <th>1</th>\n",
              "      <td>1</td>\n",
              "      <td>-12.80200</td>\n",
              "      <td>-20.3350</td>\n",
              "      <td>-10.39900</td>\n",
              "      <td>-14.13200</td>\n",
              "      <td>-11.09600</td>\n",
              "      <td>-14.36100</td>\n",
              "      <td>-2.40390</td>\n",
              "      <td>-7.5330</td>\n",
              "      <td>-9.9369</td>\n",
              "      <td>0.228420</td>\n",
              "      <td>3.03600</td>\n",
              "      <td>3.26440</td>\n",
              "      <td>0.34295</td>\n",
              "      <td>0.060525</td>\n",
              "      <td>0.59652</td>\n",
              "      <td>0.25249</td>\n",
              "      <td>0.50796</td>\n",
              "      <td>0.23955</td>\n",
              "      <td>-0.57229</td>\n",
              "      <td>-0.74854</td>\n",
              "      <td>-0.64839</td>\n",
              "      <td>-0.62810</td>\n",
              "      <td>-0.188250</td>\n",
              "      <td>-0.55448</td>\n",
              "      <td>0.115710</td>\n",
              "      <td>0.031183</td>\n",
              "      <td>0.006051</td>\n",
              "      <td>0.60356</td>\n",
              "      <td>0.67496</td>\n",
              "      <td>44.992</td>\n",
              "      <td>0.40738</td>\n",
              "      <td>0.196180</td>\n",
              "      <td>0.26758</td>\n",
              "      <td>0.128860</td>\n",
              "      <td>0.052298</td>\n",
              "      <td>0.158260</td>\n",
              "      <td>-11.09600</td>\n",
              "      <td>-11.80500</td>\n",
              "      <td>-20.3350</td>\n",
              "      <td>...</td>\n",
              "      <td>0.30864</td>\n",
              "      <td>0.104830</td>\n",
              "      <td>6274</td>\n",
              "      <td>5084</td>\n",
              "      <td>3297</td>\n",
              "      <td>3777</td>\n",
              "      <td>8214</td>\n",
              "      <td>0.427160</td>\n",
              "      <td>2.4914</td>\n",
              "      <td>1.5420</td>\n",
              "      <td>-0.64500</td>\n",
              "      <td>0.92501</td>\n",
              "      <td>0.64071</td>\n",
              "      <td>0.21322</td>\n",
              "      <td>0.235370</td>\n",
              "      <td>0.75089</td>\n",
              "      <td>0.37003</td>\n",
              "      <td>2.1747</td>\n",
              "      <td>0.37003</td>\n",
              "      <td>412400.0</td>\n",
              "      <td>0.067854</td>\n",
              "      <td>2338.40</td>\n",
              "      <td>100280.0</td>\n",
              "      <td>1.14560</td>\n",
              "      <td>49.778</td>\n",
              "      <td>0.39506</td>\n",
              "      <td>0.46667</td>\n",
              "      <td>1.33330</td>\n",
              "      <td>1.11110</td>\n",
              "      <td>1.2149</td>\n",
              "      <td>0.33333</td>\n",
              "      <td>-0.487510</td>\n",
              "      <td>2.1111</td>\n",
              "      <td>0.098765</td>\n",
              "      <td>0.83333</td>\n",
              "      <td>0.33333</td>\n",
              "      <td>0.33333</td>\n",
              "      <td>0.84869</td>\n",
              "      <td>0.50617</td>\n",
              "      <td>-0.18898</td>\n",
              "    </tr>\n",
              "    <tr>\n",
              "      <th>2</th>\n",
              "      <td>1</td>\n",
              "      <td>-12.43100</td>\n",
              "      <td>-19.9020</td>\n",
              "      <td>-10.07400</td>\n",
              "      <td>-13.59800</td>\n",
              "      <td>-10.82900</td>\n",
              "      <td>-14.04800</td>\n",
              "      <td>-2.35660</td>\n",
              "      <td>-7.4717</td>\n",
              "      <td>-9.8283</td>\n",
              "      <td>0.449780</td>\n",
              "      <td>2.76870</td>\n",
              "      <td>3.21850</td>\n",
              "      <td>0.34489</td>\n",
              "      <td>0.061731</td>\n",
              "      <td>0.59338</td>\n",
              "      <td>0.26362</td>\n",
              "      <td>0.49870</td>\n",
              "      <td>0.23768</td>\n",
              "      <td>-0.53347</td>\n",
              "      <td>-0.70253</td>\n",
              "      <td>-0.58846</td>\n",
              "      <td>-0.61836</td>\n",
              "      <td>-0.178040</td>\n",
              "      <td>-0.48642</td>\n",
              "      <td>0.127130</td>\n",
              "      <td>0.032382</td>\n",
              "      <td>0.006162</td>\n",
              "      <td>0.58683</td>\n",
              "      <td>0.68024</td>\n",
              "      <td>45.466</td>\n",
              "      <td>0.39919</td>\n",
              "      <td>0.187640</td>\n",
              "      <td>0.28105</td>\n",
              "      <td>0.132110</td>\n",
              "      <td>0.048473</td>\n",
              "      <td>0.148780</td>\n",
              "      <td>-10.82900</td>\n",
              "      <td>-11.37700</td>\n",
              "      <td>-19.9020</td>\n",
              "      <td>...</td>\n",
              "      <td>0.30864</td>\n",
              "      <td>0.613940</td>\n",
              "      <td>6215</td>\n",
              "      <td>5035</td>\n",
              "      <td>3033</td>\n",
              "      <td>3837</td>\n",
              "      <td>8588</td>\n",
              "      <td>0.478010</td>\n",
              "      <td>2.8315</td>\n",
              "      <td>1.6601</td>\n",
              "      <td>-0.70049</td>\n",
              "      <td>1.03530</td>\n",
              "      <td>0.71699</td>\n",
              "      <td>0.24814</td>\n",
              "      <td>0.260810</td>\n",
              "      <td>0.80946</td>\n",
              "      <td>0.38237</td>\n",
              "      <td>2.2382</td>\n",
              "      <td>0.38237</td>\n",
              "      <td>439570.0</td>\n",
              "      <td>0.117030</td>\n",
              "      <td>3321.30</td>\n",
              "      <td>128320.0</td>\n",
              "      <td>1.26510</td>\n",
              "      <td>49.444</td>\n",
              "      <td>0.24691</td>\n",
              "      <td>0.61111</td>\n",
              "      <td>0.77778</td>\n",
              "      <td>0.77778</td>\n",
              "      <td>1.3689</td>\n",
              "      <td>0.25926</td>\n",
              "      <td>0.252980</td>\n",
              "      <td>2.2222</td>\n",
              "      <td>0.172840</td>\n",
              "      <td>0.68889</td>\n",
              "      <td>0.88889</td>\n",
              "      <td>0.66667</td>\n",
              "      <td>1.27300</td>\n",
              "      <td>0.30864</td>\n",
              "      <td>0.10483</td>\n",
              "    </tr>\n",
              "    <tr>\n",
              "      <th>3</th>\n",
              "      <td>1</td>\n",
              "      <td>-12.68900</td>\n",
              "      <td>-19.5290</td>\n",
              "      <td>-10.02800</td>\n",
              "      <td>-13.35000</td>\n",
              "      <td>-11.05600</td>\n",
              "      <td>-14.01400</td>\n",
              "      <td>-2.66110</td>\n",
              "      <td>-6.8396</td>\n",
              "      <td>-9.5006</td>\n",
              "      <td>0.663780</td>\n",
              "      <td>2.29420</td>\n",
              "      <td>2.95800</td>\n",
              "      <td>0.32760</td>\n",
              "      <td>0.067825</td>\n",
              "      <td>0.60457</td>\n",
              "      <td>0.28135</td>\n",
              "      <td>0.47717</td>\n",
              "      <td>0.24148</td>\n",
              "      <td>-0.50405</td>\n",
              "      <td>-0.66998</td>\n",
              "      <td>-0.52543</td>\n",
              "      <td>-0.61169</td>\n",
              "      <td>-0.175070</td>\n",
              "      <td>-0.43576</td>\n",
              "      <td>0.127200</td>\n",
              "      <td>0.031091</td>\n",
              "      <td>0.006040</td>\n",
              "      <td>0.57769</td>\n",
              "      <td>0.67468</td>\n",
              "      <td>46.654</td>\n",
              "      <td>0.38976</td>\n",
              "      <td>0.187930</td>\n",
              "      <td>0.28492</td>\n",
              "      <td>0.137380</td>\n",
              "      <td>0.047480</td>\n",
              "      <td>0.147010</td>\n",
              "      <td>-11.05600</td>\n",
              "      <td>-11.26300</td>\n",
              "      <td>-19.5290</td>\n",
              "      <td>...</td>\n",
              "      <td>0.16049</td>\n",
              "      <td>0.064018</td>\n",
              "      <td>6836</td>\n",
              "      <td>5745</td>\n",
              "      <td>4212</td>\n",
              "      <td>4534</td>\n",
              "      <td>7691</td>\n",
              "      <td>0.292280</td>\n",
              "      <td>1.8260</td>\n",
              "      <td>1.3640</td>\n",
              "      <td>-0.47512</td>\n",
              "      <td>0.65772</td>\n",
              "      <td>0.43840</td>\n",
              "      <td>0.15396</td>\n",
              "      <td>0.144830</td>\n",
              "      <td>0.60147</td>\n",
              "      <td>0.25824</td>\n",
              "      <td>1.6963</td>\n",
              "      <td>0.25824</td>\n",
              "      <td>296240.0</td>\n",
              "      <td>0.036817</td>\n",
              "      <td>1748.10</td>\n",
              "      <td>80640.0</td>\n",
              "      <td>1.07640</td>\n",
              "      <td>50.667</td>\n",
              "      <td>0.88889</td>\n",
              "      <td>0.61111</td>\n",
              "      <td>0.77778</td>\n",
              "      <td>0.77778</td>\n",
              "      <td>1.8892</td>\n",
              "      <td>0.16049</td>\n",
              "      <td>0.437500</td>\n",
              "      <td>4.1111</td>\n",
              "      <td>0.320990</td>\n",
              "      <td>0.83333</td>\n",
              "      <td>0.33333</td>\n",
              "      <td>0.33333</td>\n",
              "      <td>1.14910</td>\n",
              "      <td>0.38272</td>\n",
              "      <td>0.41603</td>\n",
              "    </tr>\n",
              "    <tr>\n",
              "      <th>4</th>\n",
              "      <td>1</td>\n",
              "      <td>-12.68600</td>\n",
              "      <td>-19.2780</td>\n",
              "      <td>-9.81850</td>\n",
              "      <td>-13.10800</td>\n",
              "      <td>-10.93200</td>\n",
              "      <td>-13.93900</td>\n",
              "      <td>-2.86750</td>\n",
              "      <td>-6.5919</td>\n",
              "      <td>-9.4594</td>\n",
              "      <td>0.831430</td>\n",
              "      <td>2.17560</td>\n",
              "      <td>3.00700</td>\n",
              "      <td>0.31701</td>\n",
              "      <td>0.069483</td>\n",
              "      <td>0.61351</td>\n",
              "      <td>0.28768</td>\n",
              "      <td>0.47476</td>\n",
              "      <td>0.23756</td>\n",
              "      <td>-0.50314</td>\n",
              "      <td>-0.68221</td>\n",
              "      <td>-0.50731</td>\n",
              "      <td>-0.59134</td>\n",
              "      <td>-0.175050</td>\n",
              "      <td>-0.45195</td>\n",
              "      <td>0.131550</td>\n",
              "      <td>0.031960</td>\n",
              "      <td>0.006439</td>\n",
              "      <td>0.57937</td>\n",
              "      <td>0.66460</td>\n",
              "      <td>46.828</td>\n",
              "      <td>0.38505</td>\n",
              "      <td>0.194320</td>\n",
              "      <td>0.27955</td>\n",
              "      <td>0.141080</td>\n",
              "      <td>0.048950</td>\n",
              "      <td>0.151560</td>\n",
              "      <td>-10.93200</td>\n",
              "      <td>-11.10900</td>\n",
              "      <td>-19.2780</td>\n",
              "      <td>...</td>\n",
              "      <td>0.20988</td>\n",
              "      <td>0.657600</td>\n",
              "      <td>6682</td>\n",
              "      <td>5883</td>\n",
              "      <td>4434</td>\n",
              "      <td>4627</td>\n",
              "      <td>7072</td>\n",
              "      <td>0.229270</td>\n",
              "      <td>1.5949</td>\n",
              "      <td>1.3268</td>\n",
              "      <td>-0.40120</td>\n",
              "      <td>0.52776</td>\n",
              "      <td>0.34389</td>\n",
              "      <td>0.14045</td>\n",
              "      <td>0.091779</td>\n",
              "      <td>0.53551</td>\n",
              "      <td>0.20899</td>\n",
              "      <td>1.5284</td>\n",
              "      <td>0.20899</td>\n",
              "      <td>232610.0</td>\n",
              "      <td>0.021300</td>\n",
              "      <td>1365.40</td>\n",
              "      <td>69540.0</td>\n",
              "      <td>1.04350</td>\n",
              "      <td>51.222</td>\n",
              "      <td>0.39506</td>\n",
              "      <td>0.56667</td>\n",
              "      <td>1.66670</td>\n",
              "      <td>1.00000</td>\n",
              "      <td>1.7351</td>\n",
              "      <td>0.18519</td>\n",
              "      <td>0.350000</td>\n",
              "      <td>4.0000</td>\n",
              "      <td>0.444440</td>\n",
              "      <td>0.68889</td>\n",
              "      <td>0.88889</td>\n",
              "      <td>0.66667</td>\n",
              "      <td>1.58110</td>\n",
              "      <td>0.20988</td>\n",
              "      <td>0.50000</td>\n",
              "    </tr>\n",
              "    <tr>\n",
              "      <th>...</th>\n",
              "      <td>...</td>\n",
              "      <td>...</td>\n",
              "      <td>...</td>\n",
              "      <td>...</td>\n",
              "      <td>...</td>\n",
              "      <td>...</td>\n",
              "      <td>...</td>\n",
              "      <td>...</td>\n",
              "      <td>...</td>\n",
              "      <td>...</td>\n",
              "      <td>...</td>\n",
              "      <td>...</td>\n",
              "      <td>...</td>\n",
              "      <td>...</td>\n",
              "      <td>...</td>\n",
              "      <td>...</td>\n",
              "      <td>...</td>\n",
              "      <td>...</td>\n",
              "      <td>...</td>\n",
              "      <td>...</td>\n",
              "      <td>...</td>\n",
              "      <td>...</td>\n",
              "      <td>...</td>\n",
              "      <td>...</td>\n",
              "      <td>...</td>\n",
              "      <td>...</td>\n",
              "      <td>...</td>\n",
              "      <td>...</td>\n",
              "      <td>...</td>\n",
              "      <td>...</td>\n",
              "      <td>...</td>\n",
              "      <td>...</td>\n",
              "      <td>...</td>\n",
              "      <td>...</td>\n",
              "      <td>...</td>\n",
              "      <td>...</td>\n",
              "      <td>...</td>\n",
              "      <td>...</td>\n",
              "      <td>...</td>\n",
              "      <td>...</td>\n",
              "      <td>...</td>\n",
              "      <td>...</td>\n",
              "      <td>...</td>\n",
              "      <td>...</td>\n",
              "      <td>...</td>\n",
              "      <td>...</td>\n",
              "      <td>...</td>\n",
              "      <td>...</td>\n",
              "      <td>...</td>\n",
              "      <td>...</td>\n",
              "      <td>...</td>\n",
              "      <td>...</td>\n",
              "      <td>...</td>\n",
              "      <td>...</td>\n",
              "      <td>...</td>\n",
              "      <td>...</td>\n",
              "      <td>...</td>\n",
              "      <td>...</td>\n",
              "      <td>...</td>\n",
              "      <td>...</td>\n",
              "      <td>...</td>\n",
              "      <td>...</td>\n",
              "      <td>...</td>\n",
              "      <td>...</td>\n",
              "      <td>...</td>\n",
              "      <td>...</td>\n",
              "      <td>...</td>\n",
              "      <td>...</td>\n",
              "      <td>...</td>\n",
              "      <td>...</td>\n",
              "      <td>...</td>\n",
              "      <td>...</td>\n",
              "      <td>...</td>\n",
              "      <td>...</td>\n",
              "      <td>...</td>\n",
              "      <td>...</td>\n",
              "      <td>...</td>\n",
              "      <td>...</td>\n",
              "      <td>...</td>\n",
              "      <td>...</td>\n",
              "      <td>...</td>\n",
              "    </tr>\n",
              "    <tr>\n",
              "      <th>325829</th>\n",
              "      <td>7</td>\n",
              "      <td>2.48230</td>\n",
              "      <td>-7.6870</td>\n",
              "      <td>1.07950</td>\n",
              "      <td>0.74318</td>\n",
              "      <td>-0.94070</td>\n",
              "      <td>0.90493</td>\n",
              "      <td>1.40280</td>\n",
              "      <td>-10.1690</td>\n",
              "      <td>-8.7665</td>\n",
              "      <td>-0.161750</td>\n",
              "      <td>-1.68390</td>\n",
              "      <td>-1.84560</td>\n",
              "      <td>0.54941</td>\n",
              "      <td>0.052840</td>\n",
              "      <td>0.39775</td>\n",
              "      <td>0.36811</td>\n",
              "      <td>0.24980</td>\n",
              "      <td>0.38208</td>\n",
              "      <td>-1.58110</td>\n",
              "      <td>-1.68310</td>\n",
              "      <td>-0.17427</td>\n",
              "      <td>-1.65010</td>\n",
              "      <td>-0.040115</td>\n",
              "      <td>-1.53410</td>\n",
              "      <td>2.421000</td>\n",
              "      <td>0.755430</td>\n",
              "      <td>0.047157</td>\n",
              "      <td>0.56149</td>\n",
              "      <td>0.88249</td>\n",
              "      <td>63.745</td>\n",
              "      <td>0.49551</td>\n",
              "      <td>0.065983</td>\n",
              "      <td>0.38698</td>\n",
              "      <td>0.051531</td>\n",
              "      <td>0.019479</td>\n",
              "      <td>0.058516</td>\n",
              "      <td>-0.94070</td>\n",
              "      <td>3.51790</td>\n",
              "      <td>-7.6870</td>\n",
              "      <td>...</td>\n",
              "      <td>0.50617</td>\n",
              "      <td>-0.188980</td>\n",
              "      <td>5960</td>\n",
              "      <td>5510</td>\n",
              "      <td>3023</td>\n",
              "      <td>4711</td>\n",
              "      <td>9327</td>\n",
              "      <td>0.510450</td>\n",
              "      <td>3.0853</td>\n",
              "      <td>1.8227</td>\n",
              "      <td>-0.91447</td>\n",
              "      <td>0.98173</td>\n",
              "      <td>0.76564</td>\n",
              "      <td>0.29146</td>\n",
              "      <td>0.257260</td>\n",
              "      <td>0.86830</td>\n",
              "      <td>0.32882</td>\n",
              "      <td>1.9798</td>\n",
              "      <td>0.32882</td>\n",
              "      <td>423430.0</td>\n",
              "      <td>0.218260</td>\n",
              "      <td>5811.10</td>\n",
              "      <td>200760.0</td>\n",
              "      <td>1.55840</td>\n",
              "      <td>47.000</td>\n",
              "      <td>9.55560</td>\n",
              "      <td>0.36706</td>\n",
              "      <td>10.55600</td>\n",
              "      <td>2.55560</td>\n",
              "      <td>2.0432</td>\n",
              "      <td>0.13580</td>\n",
              "      <td>0.760800</td>\n",
              "      <td>2.3333</td>\n",
              "      <td>0.222220</td>\n",
              "      <td>0.88889</td>\n",
              "      <td>0.22222</td>\n",
              "      <td>0.22222</td>\n",
              "      <td>1.06090</td>\n",
              "      <td>0.35802</td>\n",
              "      <td>0.63246</td>\n",
              "    </tr>\n",
              "    <tr>\n",
              "      <th>325830</th>\n",
              "      <td>7</td>\n",
              "      <td>2.52340</td>\n",
              "      <td>-7.6745</td>\n",
              "      <td>1.08680</td>\n",
              "      <td>0.76189</td>\n",
              "      <td>-0.91177</td>\n",
              "      <td>0.93663</td>\n",
              "      <td>1.43660</td>\n",
              "      <td>-10.1980</td>\n",
              "      <td>-8.7614</td>\n",
              "      <td>-0.174730</td>\n",
              "      <td>-1.67370</td>\n",
              "      <td>-1.84840</td>\n",
              "      <td>0.55130</td>\n",
              "      <td>0.052673</td>\n",
              "      <td>0.39603</td>\n",
              "      <td>0.36748</td>\n",
              "      <td>0.24996</td>\n",
              "      <td>0.38256</td>\n",
              "      <td>-1.55830</td>\n",
              "      <td>-1.65400</td>\n",
              "      <td>-0.16971</td>\n",
              "      <td>-1.62440</td>\n",
              "      <td>-0.039090</td>\n",
              "      <td>-1.51290</td>\n",
              "      <td>2.438700</td>\n",
              "      <td>0.758140</td>\n",
              "      <td>0.046243</td>\n",
              "      <td>0.55955</td>\n",
              "      <td>0.88502</td>\n",
              "      <td>63.669</td>\n",
              "      <td>0.49522</td>\n",
              "      <td>0.064335</td>\n",
              "      <td>0.38981</td>\n",
              "      <td>0.050641</td>\n",
              "      <td>0.018962</td>\n",
              "      <td>0.057036</td>\n",
              "      <td>-0.91177</td>\n",
              "      <td>3.54420</td>\n",
              "      <td>-7.6745</td>\n",
              "      <td>...</td>\n",
              "      <td>0.13580</td>\n",
              "      <td>0.823180</td>\n",
              "      <td>7649</td>\n",
              "      <td>6544</td>\n",
              "      <td>4690</td>\n",
              "      <td>4823</td>\n",
              "      <td>7104</td>\n",
              "      <td>0.204680</td>\n",
              "      <td>1.5147</td>\n",
              "      <td>1.3953</td>\n",
              "      <td>-0.27280</td>\n",
              "      <td>0.60815</td>\n",
              "      <td>0.30701</td>\n",
              "      <td>0.16503</td>\n",
              "      <td>0.041032</td>\n",
              "      <td>0.56030</td>\n",
              "      <td>0.19125</td>\n",
              "      <td>1.4729</td>\n",
              "      <td>0.19125</td>\n",
              "      <td>222500.0</td>\n",
              "      <td>0.013981</td>\n",
              "      <td>1460.90</td>\n",
              "      <td>82140.0</td>\n",
              "      <td>1.02840</td>\n",
              "      <td>49.667</td>\n",
              "      <td>2.22220</td>\n",
              "      <td>0.37094</td>\n",
              "      <td>4.88890</td>\n",
              "      <td>1.77780</td>\n",
              "      <td>2.0432</td>\n",
              "      <td>0.13580</td>\n",
              "      <td>-0.383990</td>\n",
              "      <td>6.0000</td>\n",
              "      <td>10.444000</td>\n",
              "      <td>0.12684</td>\n",
              "      <td>19.55600</td>\n",
              "      <td>4.00000</td>\n",
              "      <td>2.19720</td>\n",
              "      <td>0.11111</td>\n",
              "      <td>0.81224</td>\n",
              "    </tr>\n",
              "    <tr>\n",
              "      <th>325831</th>\n",
              "      <td>7</td>\n",
              "      <td>-1.92700</td>\n",
              "      <td>-11.4160</td>\n",
              "      <td>-2.43540</td>\n",
              "      <td>-3.45370</td>\n",
              "      <td>-4.15130</td>\n",
              "      <td>-3.48100</td>\n",
              "      <td>0.50845</td>\n",
              "      <td>-9.4886</td>\n",
              "      <td>-8.9802</td>\n",
              "      <td>0.027269</td>\n",
              "      <td>-0.69758</td>\n",
              "      <td>-0.67031</td>\n",
              "      <td>0.49950</td>\n",
              "      <td>0.056191</td>\n",
              "      <td>0.44431</td>\n",
              "      <td>0.35145</td>\n",
              "      <td>0.29930</td>\n",
              "      <td>0.34925</td>\n",
              "      <td>-2.19560</td>\n",
              "      <td>-2.46680</td>\n",
              "      <td>-0.16691</td>\n",
              "      <td>-2.23240</td>\n",
              "      <td>-0.043728</td>\n",
              "      <td>-2.19360</td>\n",
              "      <td>0.889060</td>\n",
              "      <td>0.376290</td>\n",
              "      <td>0.019241</td>\n",
              "      <td>0.61651</td>\n",
              "      <td>0.90271</td>\n",
              "      <td>60.734</td>\n",
              "      <td>0.55653</td>\n",
              "      <td>0.059982</td>\n",
              "      <td>0.34618</td>\n",
              "      <td>0.037311</td>\n",
              "      <td>0.021642</td>\n",
              "      <td>0.059914</td>\n",
              "      <td>-4.15130</td>\n",
              "      <td>-0.82003</td>\n",
              "      <td>-11.4160</td>\n",
              "      <td>...</td>\n",
              "      <td>0.20988</td>\n",
              "      <td>0.561270</td>\n",
              "      <td>6004</td>\n",
              "      <td>5343</td>\n",
              "      <td>3444</td>\n",
              "      <td>4255</td>\n",
              "      <td>8071</td>\n",
              "      <td>0.401820</td>\n",
              "      <td>2.3435</td>\n",
              "      <td>1.5514</td>\n",
              "      <td>-0.70992</td>\n",
              "      <td>0.80257</td>\n",
              "      <td>0.60271</td>\n",
              "      <td>0.21611</td>\n",
              "      <td>0.203370</td>\n",
              "      <td>0.74539</td>\n",
              "      <td>0.30959</td>\n",
              "      <td>1.8968</td>\n",
              "      <td>0.30959</td>\n",
              "      <td>354320.0</td>\n",
              "      <td>0.105340</td>\n",
              "      <td>3239.50</td>\n",
              "      <td>124620.0</td>\n",
              "      <td>1.23550</td>\n",
              "      <td>48.778</td>\n",
              "      <td>6.61730</td>\n",
              "      <td>0.34061</td>\n",
              "      <td>9.00000</td>\n",
              "      <td>2.33330</td>\n",
              "      <td>2.0432</td>\n",
              "      <td>0.13580</td>\n",
              "      <td>0.754830</td>\n",
              "      <td>2.3333</td>\n",
              "      <td>0.222220</td>\n",
              "      <td>0.83333</td>\n",
              "      <td>0.33333</td>\n",
              "      <td>0.33333</td>\n",
              "      <td>1.27300</td>\n",
              "      <td>0.30864</td>\n",
              "      <td>0.31623</td>\n",
              "    </tr>\n",
              "    <tr>\n",
              "      <th>325832</th>\n",
              "      <td>7</td>\n",
              "      <td>0.12483</td>\n",
              "      <td>-10.1440</td>\n",
              "      <td>-0.62193</td>\n",
              "      <td>-1.54210</td>\n",
              "      <td>-2.31000</td>\n",
              "      <td>-1.52500</td>\n",
              "      <td>0.74676</td>\n",
              "      <td>-10.2690</td>\n",
              "      <td>-9.5218</td>\n",
              "      <td>-0.017135</td>\n",
              "      <td>-0.76782</td>\n",
              "      <td>-0.78496</td>\n",
              "      <td>0.51652</td>\n",
              "      <td>0.048555</td>\n",
              "      <td>0.43492</td>\n",
              "      <td>0.35188</td>\n",
              "      <td>0.29486</td>\n",
              "      <td>0.35327</td>\n",
              "      <td>-2.00020</td>\n",
              "      <td>-2.36840</td>\n",
              "      <td>-0.21772</td>\n",
              "      <td>-2.06770</td>\n",
              "      <td>-0.047450</td>\n",
              "      <td>-1.97390</td>\n",
              "      <td>1.390500</td>\n",
              "      <td>0.569520</td>\n",
              "      <td>0.032453</td>\n",
              "      <td>0.61538</td>\n",
              "      <td>0.89218</td>\n",
              "      <td>60.757</td>\n",
              "      <td>0.54903</td>\n",
              "      <td>0.066350</td>\n",
              "      <td>0.34315</td>\n",
              "      <td>0.041470</td>\n",
              "      <td>0.023339</td>\n",
              "      <td>0.065150</td>\n",
              "      <td>-2.31000</td>\n",
              "      <td>1.16690</td>\n",
              "      <td>-10.1440</td>\n",
              "      <td>...</td>\n",
              "      <td>0.23457</td>\n",
              "      <td>0.620000</td>\n",
              "      <td>6234</td>\n",
              "      <td>5469</td>\n",
              "      <td>3442</td>\n",
              "      <td>4472</td>\n",
              "      <td>6766</td>\n",
              "      <td>0.325630</td>\n",
              "      <td>1.9657</td>\n",
              "      <td>1.5889</td>\n",
              "      <td>-0.42977</td>\n",
              "      <td>0.82470</td>\n",
              "      <td>0.48842</td>\n",
              "      <td>0.22747</td>\n",
              "      <td>0.106010</td>\n",
              "      <td>0.73427</td>\n",
              "      <td>0.20413</td>\n",
              "      <td>1.5130</td>\n",
              "      <td>0.20413</td>\n",
              "      <td>216430.0</td>\n",
              "      <td>0.130150</td>\n",
              "      <td>3867.20</td>\n",
              "      <td>142880.0</td>\n",
              "      <td>1.29920</td>\n",
              "      <td>51.556</td>\n",
              "      <td>0.24691</td>\n",
              "      <td>0.77778</td>\n",
              "      <td>0.44444</td>\n",
              "      <td>0.44444</td>\n",
              "      <td>1.2149</td>\n",
              "      <td>0.33333</td>\n",
              "      <td>0.059761</td>\n",
              "      <td>3.0000</td>\n",
              "      <td>0.000000</td>\n",
              "      <td>0.94444</td>\n",
              "      <td>0.11111</td>\n",
              "      <td>0.11111</td>\n",
              "      <td>0.34883</td>\n",
              "      <td>0.80247</td>\n",
              "      <td>0.18898</td>\n",
              "    </tr>\n",
              "    <tr>\n",
              "      <th>325833</th>\n",
              "      <td>7</td>\n",
              "      <td>0.20063</td>\n",
              "      <td>-10.0500</td>\n",
              "      <td>-0.59892</td>\n",
              "      <td>-1.50120</td>\n",
              "      <td>-2.25060</td>\n",
              "      <td>-1.46320</td>\n",
              "      <td>0.79955</td>\n",
              "      <td>-10.2510</td>\n",
              "      <td>-9.4514</td>\n",
              "      <td>-0.038057</td>\n",
              "      <td>-0.74936</td>\n",
              "      <td>-0.78742</td>\n",
              "      <td>0.51915</td>\n",
              "      <td>0.049000</td>\n",
              "      <td>0.43185</td>\n",
              "      <td>0.35084</td>\n",
              "      <td>0.29524</td>\n",
              "      <td>0.35393</td>\n",
              "      <td>-1.95170</td>\n",
              "      <td>-2.29460</td>\n",
              "      <td>-0.21988</td>\n",
              "      <td>-2.02270</td>\n",
              "      <td>-0.048298</td>\n",
              "      <td>-1.92140</td>\n",
              "      <td>1.408400</td>\n",
              "      <td>0.575490</td>\n",
              "      <td>0.033400</td>\n",
              "      <td>0.61584</td>\n",
              "      <td>0.89029</td>\n",
              "      <td>60.623</td>\n",
              "      <td>0.54828</td>\n",
              "      <td>0.067562</td>\n",
              "      <td>0.34202</td>\n",
              "      <td>0.042145</td>\n",
              "      <td>0.023714</td>\n",
              "      <td>0.066226</td>\n",
              "      <td>-2.25060</td>\n",
              "      <td>1.21520</td>\n",
              "      <td>-10.0500</td>\n",
              "      <td>...</td>\n",
              "      <td>0.11111</td>\n",
              "      <td>0.704060</td>\n",
              "      <td>7980</td>\n",
              "      <td>6950</td>\n",
              "      <td>5297</td>\n",
              "      <td>5004</td>\n",
              "      <td>6458</td>\n",
              "      <td>0.098766</td>\n",
              "      <td>1.2192</td>\n",
              "      <td>1.3121</td>\n",
              "      <td>-0.13432</td>\n",
              "      <td>0.42372</td>\n",
              "      <td>0.14814</td>\n",
              "      <td>0.13497</td>\n",
              "      <td>-0.036695</td>\n",
              "      <td>0.41138</td>\n",
              "      <td>0.12685</td>\n",
              "      <td>1.2906</td>\n",
              "      <td>0.12685</td>\n",
              "      <td>150320.0</td>\n",
              "      <td>-0.028444</td>\n",
              "      <td>224.02</td>\n",
              "      <td>48540.0</td>\n",
              "      <td>0.94469</td>\n",
              "      <td>51.333</td>\n",
              "      <td>1.33330</td>\n",
              "      <td>0.49542</td>\n",
              "      <td>3.11110</td>\n",
              "      <td>1.33330</td>\n",
              "      <td>2.1972</td>\n",
              "      <td>0.11111</td>\n",
              "      <td>0.168430</td>\n",
              "      <td>6.6667</td>\n",
              "      <td>11.111000</td>\n",
              "      <td>0.35569</td>\n",
              "      <td>14.33300</td>\n",
              "      <td>3.00000</td>\n",
              "      <td>2.04320</td>\n",
              "      <td>0.13580</td>\n",
              "      <td>0.72732</td>\n",
              "    </tr>\n",
              "  </tbody>\n",
              "</table>\n",
              "<p>325834 rows × 175 columns</p>\n",
              "</div>"
            ],
            "text/plain": [
              "        label        f1       f2        f3  ...     f171     f172     f173     f174\n",
              "0           1 -13.55900 -21.4070 -11.40400  ...  2.44440  1.67700  0.20988  0.65422\n",
              "1           1 -12.80200 -20.3350 -10.39900  ...  0.33333  0.84869  0.50617 -0.18898\n",
              "2           1 -12.43100 -19.9020 -10.07400  ...  0.66667  1.27300  0.30864  0.10483\n",
              "3           1 -12.68900 -19.5290 -10.02800  ...  0.33333  1.14910  0.38272  0.41603\n",
              "4           1 -12.68600 -19.2780  -9.81850  ...  0.66667  1.58110  0.20988  0.50000\n",
              "...       ...       ...      ...       ...  ...      ...      ...      ...      ...\n",
              "325829      7   2.48230  -7.6870   1.07950  ...  0.22222  1.06090  0.35802  0.63246\n",
              "325830      7   2.52340  -7.6745   1.08680  ...  4.00000  2.19720  0.11111  0.81224\n",
              "325831      7  -1.92700 -11.4160  -2.43540  ...  0.33333  1.27300  0.30864  0.31623\n",
              "325832      7   0.12483 -10.1440  -0.62193  ...  0.11111  0.34883  0.80247  0.18898\n",
              "325833      7   0.20063 -10.0500  -0.59892  ...  3.00000  2.04320  0.13580  0.72732\n",
              "\n",
              "[325834 rows x 175 columns]"
            ]
          },
          "metadata": {
            "tags": []
          },
          "execution_count": 116
        }
      ]
    },
    {
      "cell_type": "code",
      "metadata": {
        "colab": {
          "base_uri": "https://localhost:8080/"
        },
        "id": "0fvBK3IOFZBa",
        "outputId": "ffdd6185-eeaa-44a4-a6f8-3b3c93d093f6"
      },
      "source": [
        "dataTrain.isnull().values.any()"
      ],
      "execution_count": null,
      "outputs": [
        {
          "output_type": "execute_result",
          "data": {
            "text/plain": [
              "False"
            ]
          },
          "metadata": {
            "tags": []
          },
          "execution_count": 106
        }
      ]
    },
    {
      "cell_type": "code",
      "metadata": {
        "id": "zYElAvRfl2QY",
        "colab": {
          "base_uri": "https://localhost:8080/"
        },
        "outputId": "4e45c28e-e86d-4aa4-e67a-3bade297be94"
      },
      "source": [
        "from sklearn.model_selection import train_test_split\n",
        "\n",
        "X = dataTrain.iloc[:,1:].values\n",
        "\n",
        "y = dataTrain.iloc[:,0].values\n",
        "\n",
        "#X_train = dataTrain.iloc[:,1:].values\n",
        "\n",
        "#y_train = dataTrain.iloc[:,0].values\n",
        "\n",
        "#X_test = datatest.iloc[:,1:].values\n",
        "\n",
        "#y_test = datatest.iloc[:,0].values\n",
        "\n",
        "X_train1, X_test1, y_train1, y_test1 = train_test_split(X, y, test_size=0.0001, random_state=0)\n",
        "X_train2, X_test2, y_train2, y_test2 = train_test_split(X, y, test_size=0.0002, random_state=0)\n",
        "X_train3, X_test3, y_train3, y_test3 = train_test_split(X, y, test_size=0.0003, random_state=0)\n",
        "X_train4, X_test4, y_train4, y_test4 = train_test_split(X, y, test_size=0.00015, random_state=0)\n",
        "X_train5, X_test5, y_train5, y_test5 = train_test_split(X, y, test_size=0.00025, random_state=0)\n",
        "\n",
        "print(X_train1.shape)\n",
        "print(X_test1.shape)\n",
        "\n",
        "print(X_train2.shape)\n",
        "print(X_test2.shape)\n",
        "\n",
        "print(X_train3.shape)\n",
        "print(X_test3.shape)\n",
        "\n",
        "print(X_train4.shape)\n",
        "print(X_test4.shape)\n",
        "\n",
        "print(X_train5.shape)\n",
        "print(X_test5.shape)\n",
        "\n",
        "from sklearn.preprocessing import StandardScaler\n",
        "\n",
        "sc = StandardScaler()\n",
        "X_train1 = sc.fit_transform(X_train1)\n",
        "X_test1 = sc.transform(X_test1)\n",
        "\n",
        "X_train2 = sc.fit_transform(X_train2)\n",
        "X_test2 = sc.transform(X_test2)\n",
        "\n",
        "X_train3 = sc.fit_transform(X_train3)\n",
        "X_test3 = sc.transform(X_test3)\n",
        "\n",
        "X_train4 = sc.fit_transform(X_train4)\n",
        "X_test4 = sc.transform(X_test4)\n",
        "\n",
        "X_train5 = sc.fit_transform(X_train5)\n",
        "X_test5 = sc.transform(X_test5)\n",
        "\n"
      ],
      "execution_count": null,
      "outputs": [
        {
          "output_type": "stream",
          "text": [
            "(325801, 174)\n",
            "(33, 174)\n",
            "(325768, 174)\n",
            "(66, 174)\n",
            "(325736, 174)\n",
            "(98, 174)\n",
            "(325785, 174)\n",
            "(49, 174)\n",
            "(325752, 174)\n",
            "(82, 174)\n"
          ],
          "name": "stdout"
        }
      ]
    },
    {
      "cell_type": "code",
      "metadata": {
        "id": "3pTJtCi6iAih"
      },
      "source": [
        "import pandas as pd\r\n",
        "setSizeTrain = {'Train Sets':['Set1','Set2','Set3','Set4','Set5'],'Size':[325801, 325785, 325768, 325752, 325736]}   \r\n",
        "              #'LDA': [5.263], 'QDA': [2.92397], 'Logistic Regression': [2.92], 'SVM': [0.0351], 'Neural Network':[1.169], 'Classification Tree':[5.85] }\r\n",
        "data_set_size_train = pd.DataFrame(setSizeTrain)"
      ],
      "execution_count": null,
      "outputs": []
    },
    {
      "cell_type": "code",
      "metadata": {
        "colab": {
          "base_uri": "https://localhost:8080/",
          "height": 194
        },
        "id": "IeomI2g9iSfk",
        "outputId": "1cda3418-f948-4c7c-e547-7e9b2ff2def0"
      },
      "source": [
        "data_set_size_train"
      ],
      "execution_count": null,
      "outputs": [
        {
          "output_type": "execute_result",
          "data": {
            "text/html": [
              "<div>\n",
              "<style scoped>\n",
              "    .dataframe tbody tr th:only-of-type {\n",
              "        vertical-align: middle;\n",
              "    }\n",
              "\n",
              "    .dataframe tbody tr th {\n",
              "        vertical-align: top;\n",
              "    }\n",
              "\n",
              "    .dataframe thead th {\n",
              "        text-align: right;\n",
              "    }\n",
              "</style>\n",
              "<table border=\"1\" class=\"dataframe\">\n",
              "  <thead>\n",
              "    <tr style=\"text-align: right;\">\n",
              "      <th></th>\n",
              "      <th>Train Sets</th>\n",
              "      <th>Size</th>\n",
              "    </tr>\n",
              "  </thead>\n",
              "  <tbody>\n",
              "    <tr>\n",
              "      <th>0</th>\n",
              "      <td>Set1</td>\n",
              "      <td>325801</td>\n",
              "    </tr>\n",
              "    <tr>\n",
              "      <th>1</th>\n",
              "      <td>Set2</td>\n",
              "      <td>325785</td>\n",
              "    </tr>\n",
              "    <tr>\n",
              "      <th>2</th>\n",
              "      <td>Set3</td>\n",
              "      <td>325768</td>\n",
              "    </tr>\n",
              "    <tr>\n",
              "      <th>3</th>\n",
              "      <td>Set4</td>\n",
              "      <td>325752</td>\n",
              "    </tr>\n",
              "    <tr>\n",
              "      <th>4</th>\n",
              "      <td>Set5</td>\n",
              "      <td>325736</td>\n",
              "    </tr>\n",
              "  </tbody>\n",
              "</table>\n",
              "</div>"
            ],
            "text/plain": [
              "  Train Sets    Size\n",
              "0       Set1  325801\n",
              "1       Set2  325785\n",
              "2       Set3  325768\n",
              "3       Set4  325752\n",
              "4       Set5  325736"
            ]
          },
          "metadata": {
            "tags": []
          },
          "execution_count": 237
        }
      ]
    },
    {
      "cell_type": "code",
      "metadata": {
        "id": "itUelr7oeEeq"
      },
      "source": [
        "import pandas as pd\r\n",
        "setSize = {'Test Sets':['Set1','Set2','Set3','Set4','Set5'],'Size':[33, 49, 66, 82, 98]}   \r\n",
        "              #'LDA': [5.263], 'QDA': [2.92397], 'Logistic Regression': [2.92], 'SVM': [0.0351], 'Neural Network':[1.169], 'Classification Tree':[5.85] }\r\n",
        "data_set_size_df = pd.DataFrame(setSize)"
      ],
      "execution_count": null,
      "outputs": []
    },
    {
      "cell_type": "code",
      "metadata": {
        "colab": {
          "base_uri": "https://localhost:8080/",
          "height": 194
        },
        "id": "cFI5KO4theo0",
        "outputId": "1f919052-f021-4453-c13e-9f0f2f8c3f90"
      },
      "source": [
        "data_set_size_df"
      ],
      "execution_count": null,
      "outputs": [
        {
          "output_type": "execute_result",
          "data": {
            "text/html": [
              "<div>\n",
              "<style scoped>\n",
              "    .dataframe tbody tr th:only-of-type {\n",
              "        vertical-align: middle;\n",
              "    }\n",
              "\n",
              "    .dataframe tbody tr th {\n",
              "        vertical-align: top;\n",
              "    }\n",
              "\n",
              "    .dataframe thead th {\n",
              "        text-align: right;\n",
              "    }\n",
              "</style>\n",
              "<table border=\"1\" class=\"dataframe\">\n",
              "  <thead>\n",
              "    <tr style=\"text-align: right;\">\n",
              "      <th></th>\n",
              "      <th>Test Sets</th>\n",
              "      <th>Size</th>\n",
              "    </tr>\n",
              "  </thead>\n",
              "  <tbody>\n",
              "    <tr>\n",
              "      <th>0</th>\n",
              "      <td>Set1</td>\n",
              "      <td>33</td>\n",
              "    </tr>\n",
              "    <tr>\n",
              "      <th>1</th>\n",
              "      <td>Set2</td>\n",
              "      <td>49</td>\n",
              "    </tr>\n",
              "    <tr>\n",
              "      <th>2</th>\n",
              "      <td>Set3</td>\n",
              "      <td>66</td>\n",
              "    </tr>\n",
              "    <tr>\n",
              "      <th>3</th>\n",
              "      <td>Set4</td>\n",
              "      <td>82</td>\n",
              "    </tr>\n",
              "    <tr>\n",
              "      <th>4</th>\n",
              "      <td>Set5</td>\n",
              "      <td>98</td>\n",
              "    </tr>\n",
              "  </tbody>\n",
              "</table>\n",
              "</div>"
            ],
            "text/plain": [
              "  Test Sets  Size\n",
              "0      Set1    33\n",
              "1      Set2    49\n",
              "2      Set3    66\n",
              "3      Set4    82\n",
              "4      Set5    98"
            ]
          },
          "metadata": {
            "tags": []
          },
          "execution_count": 235
        }
      ]
    },
    {
      "cell_type": "code",
      "metadata": {
        "id": "nv7zrRKmyI1K",
        "colab": {
          "base_uri": "https://localhost:8080/"
        },
        "outputId": "80309369-0cbe-477e-e3d5-446551f32937"
      },
      "source": [
        "y_train"
      ],
      "execution_count": null,
      "outputs": [
        {
          "output_type": "execute_result",
          "data": {
            "text/plain": [
              "array([6, 6, 5, ..., 4, 3, 6])"
            ]
          },
          "metadata": {
            "tags": []
          },
          "execution_count": 36
        }
      ]
    },
    {
      "cell_type": "code",
      "metadata": {
        "colab": {
          "base_uri": "https://localhost:8080/"
        },
        "id": "qnqRphYD_oVQ",
        "outputId": "fc6a6c56-83c3-49b5-f3d5-9f72b701d34d"
      },
      "source": [
        "y_train.max()"
      ],
      "execution_count": null,
      "outputs": [
        {
          "output_type": "execute_result",
          "data": {
            "text/plain": [
              "7"
            ]
          },
          "metadata": {
            "tags": []
          },
          "execution_count": 68
        }
      ]
    },
    {
      "cell_type": "code",
      "metadata": {
        "id": "UClYDq0o79Ib"
      },
      "source": [
        "from math import sqrt"
      ],
      "execution_count": null,
      "outputs": []
    },
    {
      "cell_type": "code",
      "metadata": {
        "id": "J1WzzLrx3GFT"
      },
      "source": [
        "class KNN:\r\n",
        "  def __init__(self,k=1):\r\n",
        "        self.k = k\r\n",
        "  def predict_test_class(self,NN_df, y_train_):\r\n",
        "\r\n",
        "    y_train_df = pd.DataFrame()\r\n",
        "    y_train_df['counter'] = range(y_train_.shape[0])\r\n",
        "    y_train_df['y_vals'] = y_train_\r\n",
        "  \r\n",
        "\r\n",
        "    y_val_df = pd.merge(y_train_df, NN_df)\r\n",
        "  \r\n",
        "\r\n",
        "    max_y_val = y_val_df['y_vals'].mode()\r\n",
        "    return max_y_val\r\n",
        "\r\n",
        "  def distance_to_center(self,train,test,y_train_):\r\n",
        "\r\n",
        "\r\n",
        "\r\n",
        "    distance = np.zeros((1, train.shape[0]))\r\n",
        "\r\n",
        "    for train_row in range(train.shape[0]):\r\n",
        "      distance[0,train_row] = (np.linalg.norm((train[train_row,:] - test[:])))**2\r\n",
        "\r\n",
        "\r\n",
        "    distance_df = pd.DataFrame()\r\n",
        "    distance_df['counter'] = range(distance.shape[1])\r\n",
        "    distance_df['dist'] = distance[0,:]\r\n",
        "\r\n",
        "    distance_df = distance_df.sort_values(by=['dist'])\r\n",
        "\r\n",
        "\r\n",
        "    nearest_neighbors = distance_df.iloc[0:self.k,:]\r\n",
        "    predicted_class = self.predict_test_class(nearest_neighbors,y_train_)\r\n",
        "  \r\n",
        "    return predicted_class\r\n",
        "  def get_predictions(self,X_train_,X_test_,y_train_,y_test_):\r\n",
        "    \r\n",
        "    pred_class = np.zeros((1, X_test_.shape[0]))\r\n",
        "    for i in range(X_test_.shape[0]):\r\n",
        "      pred_class[0,i] = self.distance_to_center(X_train_,X_test_[i,:],y_train_)\r\n",
        "      #print(pred_class)\r\n",
        "\r\n",
        "    return pred_class\r\n",
        "\r\n",
        "  def measure_accuracy(self,predicted, actual):\r\n",
        "\r\n",
        "    nCorrect = 0\r\n",
        "    nIncorrect = 0\r\n",
        "\r\n",
        "    for i in range(predicted.shape[1]):\r\n",
        "      if(predicted[0,i] == actual[i]):\r\n",
        "        nCorrect += 1\r\n",
        "\r\n",
        "      else:\r\n",
        "        nIncorrect +=1\r\n",
        "\r\n",
        "    print(\"Number Correct: \", nCorrect)\r\n",
        "    print(\"Number Incorrect: \", nIncorrect)\r\n",
        "    print(\"Classification Accuracy: \", nCorrect/predicted.shape[1])\r\n",
        "\r\n",
        "    return nCorrect/predicted.shape[1]\r\n",
        "\r\n"
      ],
      "execution_count": null,
      "outputs": []
    },
    {
      "cell_type": "code",
      "metadata": {
        "id": "w5fsc4t844MT"
      },
      "source": [
        "KNN_model = KNN(k=8)"
      ],
      "execution_count": null,
      "outputs": []
    },
    {
      "cell_type": "code",
      "metadata": {
        "colab": {
          "base_uri": "https://localhost:8080/"
        },
        "id": "1kRbhmQ-E1NN",
        "outputId": "987c3f5a-f260-402f-f0df-601d5d569a8f"
      },
      "source": [
        "print(y_train1)\r\n",
        "print(y_train1.shape)\r\n",
        "print(y_train2.shape)"
      ],
      "execution_count": null,
      "outputs": [
        {
          "output_type": "stream",
          "text": [
            "[6 6 5 ... 4 3 6]\n",
            "(325801,)\n",
            "(325768,)\n"
          ],
          "name": "stdout"
        }
      ]
    },
    {
      "cell_type": "code",
      "metadata": {
        "colab": {
          "base_uri": "https://localhost:8080/"
        },
        "id": "jI8oWlr53a52",
        "outputId": "48696ac9-e16c-419f-a816-91a253884756"
      },
      "source": [
        "%%time\r\n",
        "predKNN_1 = KNN_model.get_predictions(X_train1,X_test1,y_train1,y_test1)"
      ],
      "execution_count": null,
      "outputs": [
        {
          "output_type": "stream",
          "text": [
            "CPU times: user 1min 26s, sys: 693 ms, total: 1min 27s\n",
            "Wall time: 1min 27s\n"
          ],
          "name": "stdout"
        }
      ]
    },
    {
      "cell_type": "code",
      "metadata": {
        "colab": {
          "base_uri": "https://localhost:8080/"
        },
        "id": "J3xHXLEcOw2t",
        "outputId": "b65b89fb-c965-41bd-88bf-25918a67ee9b"
      },
      "source": [
        "KNN_1_acc = KNN_model.measure_accuracy(predKNN_1,y_test1)"
      ],
      "execution_count": null,
      "outputs": [
        {
          "output_type": "stream",
          "text": [
            "Number Correct:  33\n",
            "Number Incorrect:  0\n",
            "Classification Accuracy:  1.0\n"
          ],
          "name": "stdout"
        }
      ]
    },
    {
      "cell_type": "code",
      "metadata": {
        "colab": {
          "base_uri": "https://localhost:8080/"
        },
        "id": "bG8tvr_F_W0O",
        "outputId": "bddde165-1672-44f6-be64-69c471d7b54e"
      },
      "source": [
        "%%time\r\n",
        "predKNN_2 = KNN_model.get_predictions(X_train2,X_test2,y_train2,y_test2)"
      ],
      "execution_count": null,
      "outputs": [
        {
          "output_type": "stream",
          "text": [
            "CPU times: user 2min 56s, sys: 1.48 s, total: 2min 58s\n",
            "Wall time: 2min 58s\n"
          ],
          "name": "stdout"
        }
      ]
    },
    {
      "cell_type": "code",
      "metadata": {
        "colab": {
          "base_uri": "https://localhost:8080/"
        },
        "id": "K_OqK9WLPAzn",
        "outputId": "12bfc4a6-24a6-498c-a46b-2fc694ccac98"
      },
      "source": [
        "knn_acc_2 = KNN_model.measure_accuracy(predKNN_2,y_test2)"
      ],
      "execution_count": null,
      "outputs": [
        {
          "output_type": "stream",
          "text": [
            "Number Correct:  66\n",
            "Number Incorrect:  0\n",
            "Classification Accuracy:  1.0\n"
          ],
          "name": "stdout"
        }
      ]
    },
    {
      "cell_type": "code",
      "metadata": {
        "colab": {
          "base_uri": "https://localhost:8080/"
        },
        "id": "XwEwvHfkAASp",
        "outputId": "bf5a2557-b658-479a-c937-a513a9d1ef72"
      },
      "source": [
        "%%time\r\n",
        "predKNN_3 = KNN_model.get_predictions(X_train3,X_test3,y_train3,y_test3)"
      ],
      "execution_count": null,
      "outputs": [
        {
          "output_type": "stream",
          "text": [
            "CPU times: user 4min 22s, sys: 2.3 s, total: 4min 24s\n",
            "Wall time: 4min 24s\n"
          ],
          "name": "stdout"
        }
      ]
    },
    {
      "cell_type": "code",
      "metadata": {
        "colab": {
          "base_uri": "https://localhost:8080/"
        },
        "id": "Zbt3VytSPL4y",
        "outputId": "f65e0647-4e66-41aa-ab79-a3389011ff3f"
      },
      "source": [
        "knn_acc_3 = KNN_model.measure_accuracy(predKNN_3,y_test3)"
      ],
      "execution_count": null,
      "outputs": [
        {
          "output_type": "stream",
          "text": [
            "Number Correct:  98\n",
            "Number Incorrect:  0\n",
            "Classification Accuracy:  1.0\n"
          ],
          "name": "stdout"
        }
      ]
    },
    {
      "cell_type": "code",
      "metadata": {
        "colab": {
          "base_uri": "https://localhost:8080/"
        },
        "id": "ExidVizHDS7T",
        "outputId": "4095cac8-fa1f-47fb-ab0d-9fef2bab2ce5"
      },
      "source": [
        "%%time\r\n",
        "predKNN_4 = KNN_model.get_predictions(X_train4,X_test4,y_train4,y_test4)"
      ],
      "execution_count": null,
      "outputs": [
        {
          "output_type": "stream",
          "text": [
            "CPU times: user 2min 9s, sys: 1.13 s, total: 2min 11s\n",
            "Wall time: 2min 11s\n"
          ],
          "name": "stdout"
        }
      ]
    },
    {
      "cell_type": "code",
      "metadata": {
        "colab": {
          "base_uri": "https://localhost:8080/"
        },
        "id": "3dsQPJqoPPsR",
        "outputId": "6e360e0c-50ca-4560-93e4-3be7b5f43502"
      },
      "source": [
        "knn_acc_4 = KNN_model.measure_accuracy(predKNN_4,y_test4)"
      ],
      "execution_count": null,
      "outputs": [
        {
          "output_type": "stream",
          "text": [
            "Number Correct:  49\n",
            "Number Incorrect:  0\n",
            "Classification Accuracy:  1.0\n"
          ],
          "name": "stdout"
        }
      ]
    },
    {
      "cell_type": "code",
      "metadata": {
        "colab": {
          "base_uri": "https://localhost:8080/"
        },
        "id": "S6UVrCq9DT1D",
        "outputId": "5e4ab292-839a-4942-b9e4-8b5becb4bfd7"
      },
      "source": [
        "%%time\r\n",
        "predKNN_5 = KNN_model.get_predictions(X_train5,X_test5,y_train5,y_test5)"
      ],
      "execution_count": null,
      "outputs": [
        {
          "output_type": "stream",
          "text": [
            "CPU times: user 3min 37s, sys: 1.97 s, total: 3min 39s\n",
            "Wall time: 3min 39s\n"
          ],
          "name": "stdout"
        }
      ]
    },
    {
      "cell_type": "code",
      "metadata": {
        "colab": {
          "base_uri": "https://localhost:8080/"
        },
        "id": "DOJfeXJ1PTl8",
        "outputId": "69bcaa59-0b1b-4d35-b54f-2fd771d16906"
      },
      "source": [
        "knn_acc_5 = KNN_model.measure_accuracy(predKNN_5,y_test5)"
      ],
      "execution_count": null,
      "outputs": [
        {
          "output_type": "stream",
          "text": [
            "Number Correct:  82\n",
            "Number Incorrect:  0\n",
            "Classification Accuracy:  1.0\n"
          ],
          "name": "stdout"
        }
      ]
    },
    {
      "cell_type": "code",
      "metadata": {
        "id": "hl4hQ4mdLWC3"
      },
      "source": [
        "import pandas as pd\r\n",
        "modelsUsedKNN = {'Sets':['Set1','Set2','Set3','Set4','Set5'],'Accuracy':[1, 1, 1, 1, 1]}   \r\n",
        "              #'LDA': [5.263], 'QDA': [2.92397], 'Logistic Regression': [2.92], 'SVM': [0.0351], 'Neural Network':[1.169], 'Classification Tree':[5.85] }\r\n",
        "acc_KNN_df = pd.DataFrame(modelsUsedKNN)"
      ],
      "execution_count": null,
      "outputs": []
    },
    {
      "cell_type": "code",
      "metadata": {
        "colab": {
          "base_uri": "https://localhost:8080/",
          "height": 294
        },
        "id": "vuPIwMM3aoll",
        "outputId": "59717514-7d7a-4ab4-ff2c-d70d34096dbf"
      },
      "source": [
        "import seaborn as sns\r\n",
        "import matplotlib.pyplot as plt\r\n",
        "\r\n",
        "sns.set_context('paper')\r\n",
        "\r\n",
        "\r\n",
        "\r\n",
        "# create plot\r\n",
        "sns.barplot(x = 'Sets', y = 'Accuracy', data = acc_KNN_df, palette=\"cubehelix\")\r\n",
        "plt.title('KNN Accuracy On Different Sizes of Test Set')\r\n",
        "plt.show()"
      ],
      "execution_count": null,
      "outputs": [
        {
          "output_type": "display_data",
          "data": {
            "image/png": "[encoded data removed]",
            "text/plain": [
              "<Figure size 432x288 with 1 Axes>"
            ]
          },
          "metadata": {
            "tags": [],
            "needs_background": "light"
          }
        }
      ]
    },
    {
      "cell_type": "code",
      "metadata": {
        "id": "8Q8-8u38bKog"
      },
      "source": [
        "import pandas as pd\r\n",
        "modelsUsedTime = {'Sets':['Set1','Set2','Set3','Set4','Set5'],'Time':[87, 131, 178, 219, 264]}   \r\n",
        "              #'LDA': [5.263], 'QDA': [2.92397], 'Logistic Regression': [2.92], 'SVM': [0.0351], 'Neural Network':[1.169], 'Classification Tree':[5.85] }\r\n",
        "time_KNN_df = pd.DataFrame(modelsUsedTime)"
      ],
      "execution_count": null,
      "outputs": []
    },
    {
      "cell_type": "code",
      "metadata": {
        "colab": {
          "base_uri": "https://localhost:8080/",
          "height": 194
        },
        "id": "O_aRY2jSflZZ",
        "outputId": "fbeb1229-fca0-47ad-bffc-9ef573d988f1"
      },
      "source": [
        "time_KNN_df"
      ],
      "execution_count": null,
      "outputs": [
        {
          "output_type": "execute_result",
          "data": {
            "text/html": [
              "<div>\n",
              "<style scoped>\n",
              "    .dataframe tbody tr th:only-of-type {\n",
              "        vertical-align: middle;\n",
              "    }\n",
              "\n",
              "    .dataframe tbody tr th {\n",
              "        vertical-align: top;\n",
              "    }\n",
              "\n",
              "    .dataframe thead th {\n",
              "        text-align: right;\n",
              "    }\n",
              "</style>\n",
              "<table border=\"1\" class=\"dataframe\">\n",
              "  <thead>\n",
              "    <tr style=\"text-align: right;\">\n",
              "      <th></th>\n",
              "      <th>Sets</th>\n",
              "      <th>Time</th>\n",
              "    </tr>\n",
              "  </thead>\n",
              "  <tbody>\n",
              "    <tr>\n",
              "      <th>0</th>\n",
              "      <td>Set1</td>\n",
              "      <td>87</td>\n",
              "    </tr>\n",
              "    <tr>\n",
              "      <th>1</th>\n",
              "      <td>Set2</td>\n",
              "      <td>131</td>\n",
              "    </tr>\n",
              "    <tr>\n",
              "      <th>2</th>\n",
              "      <td>Set3</td>\n",
              "      <td>178</td>\n",
              "    </tr>\n",
              "    <tr>\n",
              "      <th>3</th>\n",
              "      <td>Set4</td>\n",
              "      <td>219</td>\n",
              "    </tr>\n",
              "    <tr>\n",
              "      <th>4</th>\n",
              "      <td>Set5</td>\n",
              "      <td>264</td>\n",
              "    </tr>\n",
              "  </tbody>\n",
              "</table>\n",
              "</div>"
            ],
            "text/plain": [
              "   Sets  Time\n",
              "0  Set1    87\n",
              "1  Set2   131\n",
              "2  Set3   178\n",
              "3  Set4   219\n",
              "4  Set5   264"
            ]
          },
          "metadata": {
            "tags": []
          },
          "execution_count": 231
        }
      ]
    },
    {
      "cell_type": "code",
      "metadata": {
        "colab": {
          "base_uri": "https://localhost:8080/",
          "height": 294
        },
        "id": "QY1JoOYai2_R",
        "outputId": "f8e16d06-6bd5-4331-bbd5-49b4f8a0d8fc"
      },
      "source": [
        "import seaborn as sns\r\n",
        "import matplotlib.pyplot as plt\r\n",
        "\r\n",
        "sns.set_context('paper')\r\n",
        "\r\n",
        "\r\n",
        "\r\n",
        "# create plot\r\n",
        "sns.barplot(x = 'Sets', y = 'Time', data = time_KNN_df, palette=\"cubehelix\")\r\n",
        "plt.title('KNN Computation Time (in seconds) On Different Sizes of Test Set')\r\n",
        "plt.show()"
      ],
      "execution_count": null,
      "outputs": [
        {
          "output_type": "display_data",
          "data": {
            "image/png": "[encoded data removed]",
            "text/plain": [
              "<Figure size 432x288 with 1 Axes>"
            ]
          },
          "metadata": {
            "tags": [],
            "needs_background": "light"
          }
        }
      ]
    },
    {
      "cell_type": "code",
      "metadata": {
        "id": "IRhSWVE0QBP3"
      },
      "source": [
        "knn5_model = KNN(k=5)"
      ],
      "execution_count": null,
      "outputs": []
    },
    {
      "cell_type": "code",
      "metadata": {
        "colab": {
          "base_uri": "https://localhost:8080/"
        },
        "id": "IB8PGRTZP34h",
        "outputId": "8f26c0d4-ce87-46c8-b2d0-77e99cb09014"
      },
      "source": [
        "%%time\r\n",
        "predKNN5_1 = knn5_model.get_predictions(X_train1,X_test1,y_train1,y_test1)"
      ],
      "execution_count": null,
      "outputs": [
        {
          "output_type": "stream",
          "text": [
            "CPU times: user 1min 26s, sys: 789 ms, total: 1min 27s\n",
            "Wall time: 1min 27s\n"
          ],
          "name": "stdout"
        }
      ]
    },
    {
      "cell_type": "code",
      "metadata": {
        "id": "TIhclsOXRipj"
      },
      "source": [
        "%%time\r\n",
        "predKNN5_2 = knn5_model.get_predictions(X_train2,X_test2,y_train2,y_test2)"
      ],
      "execution_count": null,
      "outputs": []
    },
    {
      "cell_type": "code",
      "metadata": {
        "id": "CoLqIbPlRjcT"
      },
      "source": [
        "%%time\r\n",
        "predKNN5_3 = knn5_model.get_predictions(X_train3,X_test3,y_train3,y_test3)"
      ],
      "execution_count": null,
      "outputs": []
    },
    {
      "cell_type": "code",
      "metadata": {
        "id": "Sh231z4FRkmK"
      },
      "source": [
        "%%time\r\n",
        "predKNN5_4 = knn5_model.get_predictions(X_train4,X_test4,y_train4,y_test4)"
      ],
      "execution_count": null,
      "outputs": []
    },
    {
      "cell_type": "code",
      "metadata": {
        "id": "hPBi6FlwRlXY"
      },
      "source": [
        "%%time\r\n",
        "predKNN5_5 = knn5_model.get_predictions(X_train5,X_test5,y_train5,y_test5)"
      ],
      "execution_count": null,
      "outputs": []
    },
    {
      "cell_type": "code",
      "metadata": {
        "colab": {
          "base_uri": "https://localhost:8080/"
        },
        "id": "3jaFJqn0D9l8",
        "outputId": "beacc7ed-6bbc-46da-d088-237facd89169"
      },
      "source": [
        "X_test.shape"
      ],
      "execution_count": null,
      "outputs": [
        {
          "output_type": "execute_result",
          "data": {
            "text/plain": [
              "(33, 174)"
            ]
          },
          "metadata": {
            "tags": []
          },
          "execution_count": 98
        }
      ]
    },
    {
      "cell_type": "code",
      "metadata": {
        "colab": {
          "base_uri": "https://localhost:8080/"
        },
        "id": "smdJz0Vt5bqd",
        "outputId": "4cb37c3e-10dc-45bb-bcfe-70df97e5be0c"
      },
      "source": [
        "accuracy_KNN = KNN_model.measure_accuracy(pred,y_test)\r\n",
        "print(accuracy_KNN)"
      ],
      "execution_count": null,
      "outputs": [
        {
          "output_type": "stream",
          "text": [
            "1.0\n"
          ],
          "name": "stdout"
        }
      ]
    },
    {
      "cell_type": "code",
      "metadata": {
        "id": "XE66uQzD5uR4"
      },
      "source": [
        "class SVM:\r\n",
        "    def __init__(self,learning_rate = .001,lamb = .01, max_iter=10000):\r\n",
        "        self.learning_rate = learning_rate\r\n",
        "        self.lamb = lamb\r\n",
        "        self.max_iter = int(max_iter)\r\n",
        "        \r\n",
        "    \r\n",
        "    def initialize(self, X_tr):\r\n",
        "        self.X_train = X_tr\r\n",
        "        self.X_train_shape = X_tr.shape\r\n",
        "        self.b = 0\r\n",
        "        self.epochs = 1\r\n",
        "        self.weights = np.zeros(self.X_train.shape[1])\r\n",
        "        \r\n",
        "        \r\n",
        "\r\n",
        "    def fit(self, X_tr, y_train):\r\n",
        "        self.initialize(X_tr)\r\n",
        "\r\n",
        "\r\n",
        "        epoch_iter = self.epochs\r\n",
        "        while(epoch_iter < self.max_iter):\r\n",
        "          y = np.dot(self.X_train, self.weights)\r\n",
        "          prod = y * y_train\r\n",
        "          #print(prod.shape)\r\n",
        "          for val in range(len(prod)):\r\n",
        "            if(prod[val] >=1):\r\n",
        "              cost = 0\r\n",
        "              self.weights -= self.learning_rate*2*(1/epoch_iter)*self.weights\r\n",
        "          #print(weights)\r\n",
        "            else:\r\n",
        "              cost = 1 - val\r\n",
        "              self.weights = self.weights - self.learning_rate * (-2*(1/epoch_iter)*self.weights - np.dot(self.X_train[val],y_train[val]))\r\n",
        "              self.b -= self.learning_rate * y_train[val]\r\n",
        "\r\n",
        "              epoch_iter +=1\r\n",
        "\r\n",
        "       \r\n",
        "\r\n",
        "    def predict(self, X_test):\r\n",
        "        y_pred = np.dot(self.weights, X_test.T)\r\n",
        "        predicted_class = np.zeros(len(y_pred))\r\n",
        "        for index, val in enumerate(y_pred):\r\n",
        "          if(val > 0):\r\n",
        "            predicted_class[index] = 1\r\n",
        "          else:\r\n",
        "            predicted_class[index] = 0\r\n",
        "\r\n",
        "        return predicted_class\r\n",
        "      \r\n",
        "    def score(self, predicted, y_test):\r\n",
        "\r\n",
        "        nCorrect = 0\r\n",
        "        nIncorrect = 0\r\n",
        "\r\n",
        "        for i in range(len(predicted)):\r\n",
        "          if(predicted[i] == y_test[i]):\r\n",
        "            nCorrect += 1\r\n",
        "\r\n",
        "          else:\r\n",
        "            nIncorrect +=1\r\n",
        "\r\n",
        "        print(\"Number Correct: \", nCorrect)\r\n",
        "        print(\"Number Incorrect: \", nIncorrect)\r\n",
        "        print(\"Classification Accuracy: \", nCorrect/len(predicted))\r\n",
        "\r\n",
        "        return nCorrect/len(predicted)\r\n",
        "\r\n",
        "\r\n",
        "        "
      ],
      "execution_count": null,
      "outputs": []
    },
    {
      "cell_type": "code",
      "metadata": {
        "id": "8CG6GMQZumwU"
      },
      "source": [
        "\r\n",
        "import copy\r\n",
        "\r\n",
        "def oneVsRestClassifier(SVM_mod, y_train,y_test,X_train,X_test):\r\n",
        "\r\n",
        "  num_classes = np.max(y_train) + 1\r\n",
        "  accuracy_arr = np.zeros(num_classes)\r\n",
        "  for i in range(num_classes):\r\n",
        "    #print ('\\nThe %d/%dth svm classifier training...' % (i+1, num_classes))\r\n",
        "    \r\n",
        "    y_train_svm = copy.deepcopy(y_train)\r\n",
        "    y_test_svm = copy.deepcopy(y_test)\r\n",
        "    idxs_i = y_train_svm == i\r\n",
        "    idxs_i_test = y_test_svm == i\r\n",
        "    #print(idxs_i)\r\n",
        "    #print(y_train)\r\n",
        "    #print(y_train_svm)\r\n",
        "    y_train_svm[idxs_i] = 1\r\n",
        "    y_train_svm[~idxs_i] = 0\r\n",
        "    #print(y_train_svm)\r\n",
        "    y_test_svm[idxs_i_test] = 1\r\n",
        "    y_test_svm[~idxs_i_test] = 0\r\n",
        "    #logistic = Logistic()\r\n",
        "    #loss = logistic.train(X_train, y_train_logistic, method='sgd', batch_size=200, learning_rate=1e-6,\r\n",
        "    #          reg = 1e3, num_iters=1000, verbose=True, vectorized=True)\r\n",
        "    #losses.append(loss)\r\n",
        "    #svm_classifiers.append(svm_2(X_train,X_test,y_train_svm))\r\n",
        "\r\n",
        "    SVM_mod.fit(X_train,y_train_svm)\r\n",
        "    y_pred = SVM_mod.predict(X_test)\r\n",
        "    #weights, b= svm_2(X_train,X_test,y_train_svm)\r\n",
        "    #print(weights)\r\n",
        "    #pred_class = predict_svm(weights, X_test)\r\n",
        "    #print(pred_class)\r\n",
        "    class_acc = SVM_mod.score(y_pred, y_test_svm)\r\n",
        "    #print(class_acc)\r\n",
        "    accuracy_arr[i] = class_acc\r\n",
        "  acc_mean = np.mean(accuracy_arr)\r\n",
        "  \r\n",
        "  return acc_mean\r\n"
      ],
      "execution_count": null,
      "outputs": []
    },
    {
      "cell_type": "code",
      "metadata": {
        "id": "IHMSn7l6VdeG"
      },
      "source": [
        "SVM_model1 = SVM(max_iter=10)"
      ],
      "execution_count": null,
      "outputs": []
    },
    {
      "cell_type": "code",
      "metadata": {
        "colab": {
          "base_uri": "https://localhost:8080/"
        },
        "id": "OTU4CQLR9BgC",
        "outputId": "58c7152d-c9a8-40e0-a47b-aa1c3878b27a"
      },
      "source": [
        "%%time\r\n",
        "\r\n",
        "accuracy_SVM1 = oneVsRestClassifier(SVM_model1,y_train1,y_test1,X_train1,X_test1)\r\n",
        "print('Accuracy 1: ', accuracy_SVM1)"
      ],
      "execution_count": null,
      "outputs": [
        {
          "output_type": "stream",
          "text": [
            "Number Correct:  33\n",
            "Number Incorrect:  0\n",
            "Classification Accuracy:  1.0\n",
            "Number Correct:  26\n",
            "Number Incorrect:  7\n",
            "Classification Accuracy:  0.7878787878787878\n",
            "Number Correct:  21\n",
            "Number Incorrect:  12\n",
            "Classification Accuracy:  0.6363636363636364\n",
            "Number Correct:  26\n",
            "Number Incorrect:  7\n",
            "Classification Accuracy:  0.7878787878787878\n",
            "Number Correct:  28\n",
            "Number Incorrect:  5\n",
            "Classification Accuracy:  0.8484848484848485\n",
            "Number Correct:  20\n",
            "Number Incorrect:  13\n",
            "Classification Accuracy:  0.6060606060606061\n",
            "Number Correct:  25\n",
            "Number Incorrect:  8\n",
            "Classification Accuracy:  0.7575757575757576\n",
            "Number Correct:  20\n",
            "Number Incorrect:  13\n",
            "Classification Accuracy:  0.6060606060606061\n",
            "Accuracy 1:  0.7537878787878788\n",
            "CPU times: user 30.9 s, sys: 1.1 s, total: 32 s\n",
            "Wall time: 30.5 s\n"
          ],
          "name": "stdout"
        }
      ]
    },
    {
      "cell_type": "code",
      "metadata": {
        "colab": {
          "base_uri": "https://localhost:8080/"
        },
        "id": "0l0xcI5Ew2NM",
        "outputId": "2f40c874-7946-4c7d-b8cc-f2f3c646147b"
      },
      "source": [
        "%%time\r\n",
        "\r\n",
        "accuracy_SVM2 = oneVsRestClassifier(SVM_model1,y_train2,y_test2,X_train2,X_test2)\r\n",
        "print('Accuracy 2: ', accuracy_SVM2)"
      ],
      "execution_count": null,
      "outputs": [
        {
          "output_type": "stream",
          "text": [
            "Number Correct:  66\n",
            "Number Incorrect:  0\n",
            "Classification Accuracy:  1.0\n",
            "Number Correct:  50\n",
            "Number Incorrect:  16\n",
            "Classification Accuracy:  0.7575757575757576\n",
            "Number Correct:  40\n",
            "Number Incorrect:  26\n",
            "Classification Accuracy:  0.6060606060606061\n",
            "Number Correct:  55\n",
            "Number Incorrect:  11\n",
            "Classification Accuracy:  0.8333333333333334\n",
            "Number Correct:  52\n",
            "Number Incorrect:  14\n",
            "Classification Accuracy:  0.7878787878787878\n",
            "Number Correct:  39\n",
            "Number Incorrect:  27\n",
            "Classification Accuracy:  0.5909090909090909\n",
            "Number Correct:  52\n",
            "Number Incorrect:  14\n",
            "Classification Accuracy:  0.7878787878787878\n",
            "Number Correct:  40\n",
            "Number Incorrect:  26\n",
            "Classification Accuracy:  0.6060606060606061\n",
            "Accuracy 2:  0.7462121212121213\n",
            "CPU times: user 30.6 s, sys: 1.1 s, total: 31.7 s\n",
            "Wall time: 30.2 s\n"
          ],
          "name": "stdout"
        }
      ]
    },
    {
      "cell_type": "code",
      "metadata": {
        "colab": {
          "base_uri": "https://localhost:8080/"
        },
        "id": "o3SNlPJEHqw8",
        "outputId": "25ea2579-c5c4-463c-840d-9a6af2d31e6c"
      },
      "source": [
        "%%time\r\n",
        "\r\n",
        "accuracy_SVM3 = oneVsRestClassifier(SVM_model1,y_train3,y_test3,X_train3,X_test3)\r\n",
        "print('Accuracy 3: ', accuracy_SVM3)"
      ],
      "execution_count": null,
      "outputs": [
        {
          "output_type": "stream",
          "text": [
            "Number Correct:  98\n",
            "Number Incorrect:  0\n",
            "Classification Accuracy:  1.0\n",
            "Number Correct:  74\n",
            "Number Incorrect:  24\n",
            "Classification Accuracy:  0.7551020408163265\n",
            "Number Correct:  58\n",
            "Number Incorrect:  40\n",
            "Classification Accuracy:  0.5918367346938775\n",
            "Number Correct:  82\n",
            "Number Incorrect:  16\n",
            "Classification Accuracy:  0.8367346938775511\n",
            "Number Correct:  78\n",
            "Number Incorrect:  20\n",
            "Classification Accuracy:  0.7959183673469388\n",
            "Number Correct:  61\n",
            "Number Incorrect:  37\n",
            "Classification Accuracy:  0.6224489795918368\n",
            "Number Correct:  73\n",
            "Number Incorrect:  25\n",
            "Classification Accuracy:  0.7448979591836735\n",
            "Number Correct:  58\n",
            "Number Incorrect:  40\n",
            "Classification Accuracy:  0.5918367346938775\n",
            "Accuracy 3:  0.7423469387755102\n",
            "CPU times: user 30.4 s, sys: 1.05 s, total: 31.5 s\n",
            "Wall time: 30.1 s\n"
          ],
          "name": "stdout"
        }
      ]
    },
    {
      "cell_type": "code",
      "metadata": {
        "colab": {
          "base_uri": "https://localhost:8080/"
        },
        "id": "i67drI9IH2Hm",
        "outputId": "4285fb41-b623-4166-94e8-a3af197f657d"
      },
      "source": [
        "%%time\r\n",
        "\r\n",
        "accuracy_SVM4 = oneVsRestClassifier(SVM_model1,y_train4,y_test4,X_train4,X_test4)\r\n",
        "print('Accuracy 4: ', accuracy_SVM4)"
      ],
      "execution_count": null,
      "outputs": [
        {
          "output_type": "stream",
          "text": [
            "Number Correct:  49\n",
            "Number Incorrect:  0\n",
            "Classification Accuracy:  1.0\n",
            "Number Correct:  39\n",
            "Number Incorrect:  10\n",
            "Classification Accuracy:  0.7959183673469388\n",
            "Number Correct:  31\n",
            "Number Incorrect:  18\n",
            "Classification Accuracy:  0.6326530612244898\n",
            "Number Correct:  40\n",
            "Number Incorrect:  9\n",
            "Classification Accuracy:  0.8163265306122449\n",
            "Number Correct:  40\n",
            "Number Incorrect:  9\n",
            "Classification Accuracy:  0.8163265306122449\n",
            "Number Correct:  27\n",
            "Number Incorrect:  22\n",
            "Classification Accuracy:  0.5510204081632653\n",
            "Number Correct:  37\n",
            "Number Incorrect:  12\n",
            "Classification Accuracy:  0.7551020408163265\n",
            "Number Correct:  31\n",
            "Number Incorrect:  18\n",
            "Classification Accuracy:  0.6326530612244898\n",
            "Accuracy 4:  0.75\n",
            "CPU times: user 30.5 s, sys: 1.02 s, total: 31.5 s\n",
            "Wall time: 30.2 s\n"
          ],
          "name": "stdout"
        }
      ]
    },
    {
      "cell_type": "code",
      "metadata": {
        "colab": {
          "base_uri": "https://localhost:8080/"
        },
        "id": "p2uZfBenH53N",
        "outputId": "a86b3038-167d-4a6e-b164-48055d5a9d87"
      },
      "source": [
        "%%time\r\n",
        "\r\n",
        "accuracy_SVM5 = oneVsRestClassifier(SVM_model1,y_train5,y_test5,X_train5,X_test5)\r\n",
        "print('Accuracy 5: ', accuracy_SVM5)"
      ],
      "execution_count": null,
      "outputs": [
        {
          "output_type": "stream",
          "text": [
            "Number Correct:  82\n",
            "Number Incorrect:  0\n",
            "Classification Accuracy:  1.0\n",
            "Number Correct:  61\n",
            "Number Incorrect:  21\n",
            "Classification Accuracy:  0.7439024390243902\n",
            "Number Correct:  48\n",
            "Number Incorrect:  34\n",
            "Classification Accuracy:  0.5853658536585366\n",
            "Number Correct:  67\n",
            "Number Incorrect:  15\n",
            "Classification Accuracy:  0.8170731707317073\n",
            "Number Correct:  64\n",
            "Number Incorrect:  18\n",
            "Classification Accuracy:  0.7804878048780488\n",
            "Number Correct:  51\n",
            "Number Incorrect:  31\n",
            "Classification Accuracy:  0.6219512195121951\n",
            "Number Correct:  63\n",
            "Number Incorrect:  19\n",
            "Classification Accuracy:  0.7682926829268293\n",
            "Number Correct:  47\n",
            "Number Incorrect:  35\n",
            "Classification Accuracy:  0.573170731707317\n",
            "Accuracy 5:  0.7362804878048781\n",
            "CPU times: user 30.5 s, sys: 1.04 s, total: 31.6 s\n",
            "Wall time: 30.2 s\n"
          ],
          "name": "stdout"
        }
      ]
    },
    {
      "cell_type": "code",
      "metadata": {
        "id": "oooPQCRdILbO"
      },
      "source": [
        "import pandas as pd\r\n",
        "modelsUsed = {'Sets':['Set1','Set2','Set3','Set4','Set5'],'Accuracy':[.754, .746, .742, .75, .736]}   \r\n",
        "              #'LDA': [5.263], 'QDA': [2.92397], 'Logistic Regression': [2.92], 'SVM': [0.0351], 'Neural Network':[1.169], 'Classification Tree':[5.85] }\r\n",
        "acc_svm_df = pd.DataFrame(modelsUsed)"
      ],
      "execution_count": null,
      "outputs": []
    },
    {
      "cell_type": "code",
      "metadata": {
        "colab": {
          "base_uri": "https://localhost:8080/",
          "height": 194
        },
        "id": "gMnA866gKAx1",
        "outputId": "2a3caa32-1ecf-4b35-c1e6-6f10a3fac866"
      },
      "source": [
        "acc_svm_df"
      ],
      "execution_count": null,
      "outputs": [
        {
          "output_type": "execute_result",
          "data": {
            "text/html": [
              "<div>\n",
              "<style scoped>\n",
              "    .dataframe tbody tr th:only-of-type {\n",
              "        vertical-align: middle;\n",
              "    }\n",
              "\n",
              "    .dataframe tbody tr th {\n",
              "        vertical-align: top;\n",
              "    }\n",
              "\n",
              "    .dataframe thead th {\n",
              "        text-align: right;\n",
              "    }\n",
              "</style>\n",
              "<table border=\"1\" class=\"dataframe\">\n",
              "  <thead>\n",
              "    <tr style=\"text-align: right;\">\n",
              "      <th></th>\n",
              "      <th>Sets</th>\n",
              "      <th>Accuracy</th>\n",
              "    </tr>\n",
              "  </thead>\n",
              "  <tbody>\n",
              "    <tr>\n",
              "      <th>0</th>\n",
              "      <td>Set1</td>\n",
              "      <td>0.754</td>\n",
              "    </tr>\n",
              "    <tr>\n",
              "      <th>1</th>\n",
              "      <td>Set2</td>\n",
              "      <td>0.746</td>\n",
              "    </tr>\n",
              "    <tr>\n",
              "      <th>2</th>\n",
              "      <td>Set3</td>\n",
              "      <td>0.742</td>\n",
              "    </tr>\n",
              "    <tr>\n",
              "      <th>3</th>\n",
              "      <td>Set4</td>\n",
              "      <td>0.750</td>\n",
              "    </tr>\n",
              "    <tr>\n",
              "      <th>4</th>\n",
              "      <td>Set5</td>\n",
              "      <td>0.736</td>\n",
              "    </tr>\n",
              "  </tbody>\n",
              "</table>\n",
              "</div>"
            ],
            "text/plain": [
              "   Sets  Accuracy\n",
              "0  Set1     0.754\n",
              "1  Set2     0.746\n",
              "2  Set3     0.742\n",
              "3  Set4     0.750\n",
              "4  Set5     0.736"
            ]
          },
          "metadata": {
            "tags": []
          },
          "execution_count": 133
        }
      ]
    },
    {
      "cell_type": "code",
      "metadata": {
        "colab": {
          "base_uri": "https://localhost:8080/",
          "height": 294
        },
        "id": "W7R2x6QIJlWT",
        "outputId": "12bcf255-1e9a-4bd4-f662-6cf2d1d708f9"
      },
      "source": [
        "import seaborn as sns\r\n",
        "import matplotlib.pyplot as plt\r\n",
        "\r\n",
        "sns.set_context('paper')\r\n",
        "\r\n",
        "\r\n",
        "\r\n",
        "# create plot\r\n",
        "sns.barplot(x = 'Sets', y = 'Accuracy', data = acc_svm_df, palette=\"cubehelix\")\r\n",
        "plt.title('SVM Accuracy On Different Sizes of Test Set')\r\n",
        "plt.show()"
      ],
      "execution_count": null,
      "outputs": [
        {
          "output_type": "display_data",
          "data": {
            "image/png": "[encoded data removed]",
            "text/plain": [
              "<Figure size 432x288 with 1 Axes>"
            ]
          },
          "metadata": {
            "tags": [],
            "needs_background": "light"
          }
        }
      ]
    },
    {
      "cell_type": "code",
      "metadata": {
        "id": "ZFH1Qq-dJ76B"
      },
      "source": [
        "import pandas as pd\r\n",
        "modelsUsedTime = {'Sets':['Set1','Set2','Set3','Set4','Set5'],'Time':[31.3, 31, 32.2, 32.1, 30.8]}   \r\n",
        "              #'LDA': [5.263], 'QDA': [2.92397], 'Logistic Regression': [2.92], 'SVM': [0.0351], 'Neural Network':[1.169], 'Classification Tree':[5.85] }\r\n",
        "time_svm_df = pd.DataFrame(modelsUsedTime)"
      ],
      "execution_count": null,
      "outputs": []
    },
    {
      "cell_type": "code",
      "metadata": {
        "colab": {
          "base_uri": "https://localhost:8080/",
          "height": 194
        },
        "id": "LY_slzwSKXsH",
        "outputId": "0f1aff41-53a1-4fe7-bdd3-034767415a2d"
      },
      "source": [
        "time_svm_df"
      ],
      "execution_count": null,
      "outputs": [
        {
          "output_type": "execute_result",
          "data": {
            "text/html": [
              "<div>\n",
              "<style scoped>\n",
              "    .dataframe tbody tr th:only-of-type {\n",
              "        vertical-align: middle;\n",
              "    }\n",
              "\n",
              "    .dataframe tbody tr th {\n",
              "        vertical-align: top;\n",
              "    }\n",
              "\n",
              "    .dataframe thead th {\n",
              "        text-align: right;\n",
              "    }\n",
              "</style>\n",
              "<table border=\"1\" class=\"dataframe\">\n",
              "  <thead>\n",
              "    <tr style=\"text-align: right;\">\n",
              "      <th></th>\n",
              "      <th>Sets</th>\n",
              "      <th>Time</th>\n",
              "    </tr>\n",
              "  </thead>\n",
              "  <tbody>\n",
              "    <tr>\n",
              "      <th>0</th>\n",
              "      <td>Set1</td>\n",
              "      <td>31.3</td>\n",
              "    </tr>\n",
              "    <tr>\n",
              "      <th>1</th>\n",
              "      <td>Set2</td>\n",
              "      <td>31.0</td>\n",
              "    </tr>\n",
              "    <tr>\n",
              "      <th>2</th>\n",
              "      <td>Set3</td>\n",
              "      <td>32.2</td>\n",
              "    </tr>\n",
              "    <tr>\n",
              "      <th>3</th>\n",
              "      <td>Set4</td>\n",
              "      <td>32.1</td>\n",
              "    </tr>\n",
              "    <tr>\n",
              "      <th>4</th>\n",
              "      <td>Set5</td>\n",
              "      <td>30.8</td>\n",
              "    </tr>\n",
              "  </tbody>\n",
              "</table>\n",
              "</div>"
            ],
            "text/plain": [
              "   Sets  Time\n",
              "0  Set1  31.3\n",
              "1  Set2  31.0\n",
              "2  Set3  32.2\n",
              "3  Set4  32.1\n",
              "4  Set5  30.8"
            ]
          },
          "metadata": {
            "tags": []
          },
          "execution_count": 135
        }
      ]
    },
    {
      "cell_type": "code",
      "metadata": {
        "colab": {
          "base_uri": "https://localhost:8080/",
          "height": 294
        },
        "id": "_YgZiEMkKYpj",
        "outputId": "252b8581-0653-47f2-a56c-5fc03888c914"
      },
      "source": [
        "import seaborn as sns\r\n",
        "import matplotlib.pyplot as plt\r\n",
        "\r\n",
        "sns.set_context('paper')\r\n",
        "\r\n",
        "\r\n",
        "\r\n",
        "# create plot\r\n",
        "sns.barplot(x = 'Sets', y = 'Time', data = time_svm_df, palette=\"cubehelix\")\r\n",
        "plt.title('SVM Computation Time (in seconds) On Different Sizes of Test Set')\r\n",
        "plt.show()"
      ],
      "execution_count": null,
      "outputs": [
        {
          "output_type": "display_data",
          "data": {
            "image/png": "[encoded data removed]",
            "text/plain": [
              "<Figure size 432x288 with 1 Axes>"
            ]
          },
          "metadata": {
            "tags": [],
            "needs_background": "light"
          }
        }
      ]
    },
    {
      "cell_type": "code",
      "metadata": {
        "id": "nWnin7e-Srok"
      },
      "source": [
        "SVM_model2 = SVM(learning_rate = .01,lamb = .1, max_iter = 10)"
      ],
      "execution_count": null,
      "outputs": []
    },
    {
      "cell_type": "code",
      "metadata": {
        "colab": {
          "base_uri": "https://localhost:8080/"
        },
        "id": "qcOPW49JKiTK",
        "outputId": "1da01a19-49cd-4f5c-c44c-df85c697ee86"
      },
      "source": [
        "%%time\r\n",
        "\r\n",
        "accuracy_SVM1_model2 = oneVsRestClassifier(SVM_model2,y_train1,y_test1,X_train1,X_test1)\r\n",
        "print('Accuracy 1: ', accuracy_SVM1_model2)"
      ],
      "execution_count": null,
      "outputs": [
        {
          "output_type": "stream",
          "text": [
            "Number Correct:  33\n",
            "Number Incorrect:  0\n",
            "Classification Accuracy:  1.0\n",
            "Number Correct:  26\n",
            "Number Incorrect:  7\n",
            "Classification Accuracy:  0.7878787878787878\n",
            "Number Correct:  21\n",
            "Number Incorrect:  12\n",
            "Classification Accuracy:  0.6363636363636364\n",
            "Number Correct:  26\n",
            "Number Incorrect:  7\n",
            "Classification Accuracy:  0.7878787878787878\n",
            "Number Correct:  28\n",
            "Number Incorrect:  5\n",
            "Classification Accuracy:  0.8484848484848485\n",
            "Number Correct:  20\n",
            "Number Incorrect:  13\n",
            "Classification Accuracy:  0.6060606060606061\n",
            "Number Correct:  25\n",
            "Number Incorrect:  8\n",
            "Classification Accuracy:  0.7575757575757576\n",
            "Number Correct:  20\n",
            "Number Incorrect:  13\n",
            "Classification Accuracy:  0.6060606060606061\n",
            "Accuracy 1:  0.7537878787878788\n",
            "CPU times: user 30.8 s, sys: 1.02 s, total: 31.8 s\n",
            "Wall time: 30.4 s\n"
          ],
          "name": "stdout"
        }
      ]
    },
    {
      "cell_type": "code",
      "metadata": {
        "colab": {
          "base_uri": "https://localhost:8080/"
        },
        "id": "aZg9Yae-R_tV",
        "outputId": "38d5c227-2c0b-475f-aadb-4fb34119b75d"
      },
      "source": [
        "%%time\r\n",
        "\r\n",
        "accuracy_SVM2_model2 = oneVsRestClassifier(SVM_model2,y_train2,y_test2,X_train2,X_test2)\r\n",
        "print('Accuracy 2: ', accuracy_SVM2_model2)"
      ],
      "execution_count": null,
      "outputs": [
        {
          "output_type": "stream",
          "text": [
            "Number Correct:  66\n",
            "Number Incorrect:  0\n",
            "Classification Accuracy:  1.0\n",
            "Number Correct:  50\n",
            "Number Incorrect:  16\n",
            "Classification Accuracy:  0.7575757575757576\n",
            "Number Correct:  40\n",
            "Number Incorrect:  26\n",
            "Classification Accuracy:  0.6060606060606061\n",
            "Number Correct:  55\n",
            "Number Incorrect:  11\n",
            "Classification Accuracy:  0.8333333333333334\n",
            "Number Correct:  52\n",
            "Number Incorrect:  14\n",
            "Classification Accuracy:  0.7878787878787878\n",
            "Number Correct:  39\n",
            "Number Incorrect:  27\n",
            "Classification Accuracy:  0.5909090909090909\n",
            "Number Correct:  52\n",
            "Number Incorrect:  14\n",
            "Classification Accuracy:  0.7878787878787878\n",
            "Number Correct:  40\n",
            "Number Incorrect:  26\n",
            "Classification Accuracy:  0.6060606060606061\n",
            "Accuracy 2:  0.7462121212121213\n",
            "CPU times: user 31 s, sys: 1.11 s, total: 32.1 s\n",
            "Wall time: 30.6 s\n"
          ],
          "name": "stdout"
        }
      ]
    },
    {
      "cell_type": "code",
      "metadata": {
        "colab": {
          "base_uri": "https://localhost:8080/"
        },
        "id": "IgW5uad8SAS8",
        "outputId": "066de85a-241f-455b-ee40-4ba753d6e6a9"
      },
      "source": [
        "%%time\r\n",
        "\r\n",
        "accuracy_SVM3_model2 = oneVsRestClassifier(SVM_model2,y_train3,y_test3,X_train3,X_test3)\r\n",
        "print('Accuracy 3: ', accuracy_SVM3_model2)"
      ],
      "execution_count": null,
      "outputs": [
        {
          "output_type": "stream",
          "text": [
            "Number Correct:  98\n",
            "Number Incorrect:  0\n",
            "Classification Accuracy:  1.0\n",
            "Number Correct:  74\n",
            "Number Incorrect:  24\n",
            "Classification Accuracy:  0.7551020408163265\n",
            "Number Correct:  58\n",
            "Number Incorrect:  40\n",
            "Classification Accuracy:  0.5918367346938775\n",
            "Number Correct:  82\n",
            "Number Incorrect:  16\n",
            "Classification Accuracy:  0.8367346938775511\n",
            "Number Correct:  78\n",
            "Number Incorrect:  20\n",
            "Classification Accuracy:  0.7959183673469388\n",
            "Number Correct:  61\n",
            "Number Incorrect:  37\n",
            "Classification Accuracy:  0.6224489795918368\n",
            "Number Correct:  73\n",
            "Number Incorrect:  25\n",
            "Classification Accuracy:  0.7448979591836735\n",
            "Number Correct:  58\n",
            "Number Incorrect:  40\n",
            "Classification Accuracy:  0.5918367346938775\n",
            "Accuracy 3:  0.7423469387755102\n",
            "CPU times: user 30.7 s, sys: 1.1 s, total: 31.8 s\n",
            "Wall time: 30.3 s\n"
          ],
          "name": "stdout"
        }
      ]
    },
    {
      "cell_type": "code",
      "metadata": {
        "colab": {
          "base_uri": "https://localhost:8080/"
        },
        "id": "G-9_zgGbSA6R",
        "outputId": "755181c5-85f8-4ee1-9d03-8f4a1b0567d5"
      },
      "source": [
        "%%time\r\n",
        "\r\n",
        "accuracy_SVM4_model2 = oneVsRestClassifier(SVM_model2, y_train4,y_test4,X_train4,X_test4)\r\n",
        "print('Accuracy 4: ', accuracy_SVM4_model2)"
      ],
      "execution_count": null,
      "outputs": [
        {
          "output_type": "stream",
          "text": [
            "Number Correct:  49\n",
            "Number Incorrect:  0\n",
            "Classification Accuracy:  1.0\n",
            "Number Correct:  39\n",
            "Number Incorrect:  10\n",
            "Classification Accuracy:  0.7959183673469388\n",
            "Number Correct:  31\n",
            "Number Incorrect:  18\n",
            "Classification Accuracy:  0.6326530612244898\n",
            "Number Correct:  40\n",
            "Number Incorrect:  9\n",
            "Classification Accuracy:  0.8163265306122449\n",
            "Number Correct:  40\n",
            "Number Incorrect:  9\n",
            "Classification Accuracy:  0.8163265306122449\n",
            "Number Correct:  27\n",
            "Number Incorrect:  22\n",
            "Classification Accuracy:  0.5510204081632653\n",
            "Number Correct:  37\n",
            "Number Incorrect:  12\n",
            "Classification Accuracy:  0.7551020408163265\n",
            "Number Correct:  31\n",
            "Number Incorrect:  18\n",
            "Classification Accuracy:  0.6326530612244898\n",
            "Accuracy 4:  0.75\n",
            "CPU times: user 30.8 s, sys: 1.14 s, total: 32 s\n",
            "Wall time: 30.4 s\n"
          ],
          "name": "stdout"
        }
      ]
    },
    {
      "cell_type": "code",
      "metadata": {
        "colab": {
          "base_uri": "https://localhost:8080/"
        },
        "id": "IuGry8inSBYd",
        "outputId": "443e5bcb-baa7-4a28-909c-e6ceaa10a26a"
      },
      "source": [
        "%%time\r\n",
        "\r\n",
        "accuracy_SVM5_model2 = oneVsRestClassifier(SVM_model2, y_train5,y_test5,X_train5,X_test5)\r\n",
        "print('Accuracy 5: ', accuracy_SVM5_model2)"
      ],
      "execution_count": null,
      "outputs": [
        {
          "output_type": "stream",
          "text": [
            "Number Correct:  82\n",
            "Number Incorrect:  0\n",
            "Classification Accuracy:  1.0\n",
            "Number Correct:  61\n",
            "Number Incorrect:  21\n",
            "Classification Accuracy:  0.7439024390243902\n",
            "Number Correct:  48\n",
            "Number Incorrect:  34\n",
            "Classification Accuracy:  0.5853658536585366\n",
            "Number Correct:  67\n",
            "Number Incorrect:  15\n",
            "Classification Accuracy:  0.8170731707317073\n",
            "Number Correct:  64\n",
            "Number Incorrect:  18\n",
            "Classification Accuracy:  0.7804878048780488\n",
            "Number Correct:  51\n",
            "Number Incorrect:  31\n",
            "Classification Accuracy:  0.6219512195121951\n",
            "Number Correct:  63\n",
            "Number Incorrect:  19\n",
            "Classification Accuracy:  0.7682926829268293\n",
            "Number Correct:  47\n",
            "Number Incorrect:  35\n",
            "Classification Accuracy:  0.573170731707317\n",
            "Accuracy 5:  0.7362804878048781\n",
            "CPU times: user 30.6 s, sys: 1.01 s, total: 31.6 s\n",
            "Wall time: 30.3 s\n"
          ],
          "name": "stdout"
        }
      ]
    },
    {
      "cell_type": "code",
      "metadata": {
        "id": "GYnhSqj2UKJ7"
      },
      "source": [
        ""
      ],
      "execution_count": null,
      "outputs": []
    }
  ]
}